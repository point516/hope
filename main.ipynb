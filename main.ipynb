{
 "cells": [
  {
   "cell_type": "code",
   "execution_count": 2,
   "metadata": {},
   "outputs": [],
   "source": [
    "import psycopg2\n",
    "import pandas as pd\n",
    "import pickle\n",
    "import numpy as np\n",
    "import matplotlib.pyplot as plt\n",
    "import xgboost\n",
    "import catboost\n",
    "import lightgbm\n",
    "import optuna\n",
    "\n",
    "from sklearn.pipeline import Pipeline\n",
    "from sklearn.model_selection import cross_validate\n",
    "from sklearn.model_selection import train_test_split\n",
    "from sklearn.preprocessing import StandardScaler, MinMaxScaler\n",
    "from sklearn.model_selection import KFold\n",
    "from sklearn.metrics import accuracy_score, log_loss\n",
    "from sklearn.feature_selection import SelectKBest, mutual_info_classif, RFE\n",
    "\n",
    "from xgboost import XGBClassifier, plot_importance\n",
    "from catboost import CatBoostClassifier\n",
    "from lightgbm import LGBMClassifier, plot_importance\n",
    "from optuna.integration import CatBoostPruningCallback, XGBoostPruningCallback, LightGBMPruningCallback\n",
    "\n",
    "\n",
    "pd.set_option('display.max_columns', None)\n",
    "random_state = 42"
   ]
  },
  {
   "cell_type": "markdown",
   "metadata": {},
   "source": [
    "#### Query data from PostgreSQL table, save to csv"
   ]
  },
  {
   "cell_type": "code",
   "execution_count": 2,
   "metadata": {},
   "outputs": [],
   "source": [
    "conn = psycopg2.connect(host=\"localhost\", dbname='cs', user='postgres', password='123456', port=5432)\n",
    "cur = conn.cursor()\n",
    "\n",
    "query = \"\"\"SELECT * FROM side_dataset where id>=684\"\"\"\n",
    "cur.execute(query)\n",
    "\n",
    "rows = cur.fetchall()\n",
    "columns = [desc[0] for desc in cur.description]\n",
    "df = pd.DataFrame(rows, columns=columns)\n",
    "\n",
    "cur.close()\n",
    "conn.close()\n",
    "\n",
    "df.to_csv('df_693.csv')"
   ]
  },
  {
   "cell_type": "markdown",
   "metadata": {},
   "source": [
    "#### Begin"
   ]
  },
  {
   "cell_type": "code",
   "execution_count": 56,
   "metadata": {},
   "outputs": [],
   "source": [
    "data = pd.read_csv('df_693.csv')\n",
    "#First 4 rows are not needed\n",
    "df = data.iloc[:,5:]"
   ]
  },
  {
   "cell_type": "markdown",
   "metadata": {},
   "source": [
    "#### While parsing the data, I was storing this particular stat (average rounds lost(won) on a map) as 0's in case of missing data. So, I convert them to NULL, to deal with them further. Also deleting the rows with incorrect data"
   ]
  },
  {
   "cell_type": "code",
   "execution_count": 57,
   "metadata": {},
   "outputs": [],
   "source": [
    "df.loc[(df['t1_rounds_lost']>0) & (df['t1_rounds_won'] == 0), 't1_rounds_won'] = None\n",
    "df.loc[(df['t1_rounds_lost']==0) & (df['t1_rounds_won'] > 0), 't1_rounds_lost'] = None\n",
    "df.loc[(df['t2_rounds_lost']==0) & (df['t2_rounds_won'] > 0), 't2_rounds_lost'] = None\n",
    "df.loc[(df['t2_rounds_lost']>0) & (df['t2_rounds_won'] == 0), 't2_rounds_won'] = None\n",
    "\n",
    "df.drop(df[(df['t2_5v4']==0) & (df['t2_played']>0)].index, axis=0, inplace=True)\n",
    "df.drop(df[(df['t1_5v4']==0) & (df['t1_played']>0)].index, axis=0, inplace=True)"
   ]
  },
  {
   "cell_type": "markdown",
   "metadata": {},
   "source": [
    "#### Try filling NULL values with -1's and calues with rounds_lost, rounds_won > 13 to 13"
   ]
  },
  {
   "cell_type": "code",
   "execution_count": 58,
   "metadata": {},
   "outputs": [],
   "source": [
    "df.loc[df['t1_rounds_lost']>13,'t1_rounds_lost'] = 13\n",
    "df.loc[df['t2_rounds_lost']>13,'t2_rounds_lost'] = 13\n",
    "df.loc[df['t1_rounds_won']>13,'t1_rounds_won'] = 13\n",
    "df.loc[df['t2_rounds_won']>13,'t2_rounds_won'] = 13\n",
    "\n",
    "df['t1_rounds_lost'].fillna(15, inplace=True)\n",
    "df['t1_rounds_won'].fillna(15, inplace=True)\n",
    "df['t2_rounds_lost'].fillna(15, inplace=True)\n",
    "df['t2_rounds_won'].fillna(15, inplace=True)"
   ]
  },
  {
   "cell_type": "markdown",
   "metadata": {},
   "source": [
    "### Experiment 1. The differences between team stats will be the predicting features, so creating the features"
   ]
  },
  {
   "cell_type": "code",
   "execution_count": 59,
   "metadata": {},
   "outputs": [],
   "source": [
    "cols_name = [df.columns[i]+'_dif' for i in range(0,len(df.columns[:22]),2)] + [df.columns[i]+'_dif' for i in range(22, 24)] + [df.columns[i]+'_dif' for i in range(25, 33)]\n",
    "\n",
    "dataset = pd.DataFrame(columns=cols_name)\n",
    "\n",
    "for index, name in enumerate(cols_name[:11]):\n",
    "    dataset[name] = df[df.columns[index*2]] - df[df.columns[index*2+1]]\n",
    "\n",
    "for index, name in enumerate(cols_name[11:13]):\n",
    "    dataset[name] = df[df.columns[22+index]] - df[df.columns[33+index]]\n",
    "\n",
    "for index, name in enumerate(cols_name[13:]):\n",
    "    dataset[name] = df[df.columns[25+index]] - df[df.columns[36+index]]\n",
    "\n",
    "dataset['fp_diff'] = df['t1_fp'].astype('int') - df['t2_fp'].astype('int')\n",
    "dataset['result'] = df['result']\n",
    "\n",
    "dataset.to_csv('diffs.csv', index=False)"
   ]
  },
  {
   "cell_type": "markdown",
   "metadata": {},
   "source": [
    "#### Preparing data"
   ]
  },
  {
   "cell_type": "code",
   "execution_count": 78,
   "metadata": {},
   "outputs": [],
   "source": [
    "scaler = StandardScaler()\n",
    "\n",
    "columns = ['t1_winstreak_dif','t1_h2h_dif','t1_ranking_dif','t1_pluses_dif','t1_minuses_dif','t1_coef_dif','t1_rating_dif','t1_event_rating_dif', \\\n",
    "            't1_num_maps_dif','t1_avg_lost_dif','t1_avg_won_dif','t1_rounds_lost_dif','t1_rounds_won_dif','t1_fp_percent_dif','t1_winrate_dif', \\\n",
    "            't1_played_dif','t1_map_winstreak_dif','t1_map_losestreak_dif','t1_5v4_dif','t1_4v5_dif','t1_pistol_dif']\n",
    "\n",
    "scaler.fit(dataset.loc[:,columns])\n",
    "dataset.loc[:,columns] = scaler.transform(dataset.loc[:,columns])\n",
    "\n",
    "with open('scaler.pkl','wb') as f:\n",
    "    pickle.dump(scaler, f)\n",
    "\n",
    "dataset.to_csv('just_scaled.csv', index=False)"
   ]
  },
  {
   "cell_type": "code",
   "execution_count": 56,
   "metadata": {},
   "outputs": [
    {
     "name": "stdout",
     "output_type": "stream",
     "text": [
      "(519, 22)\n",
      "(100, 22)\n"
     ]
    }
   ],
   "source": [
    "dataset = pd.read_csv('just_scaled.csv')\n",
    "\n",
    "Y = dataset.loc[:,['result']]\n",
    "X = dataset.drop('result',axis=1)\n",
    "\n",
    "x_train, x_test, y_train, y_test = train_test_split(X, Y, test_size=100, shuffle=True, random_state=42)\n",
    "# x_val, x_test, y_val, y_test = train_test_split(x_rest, y_rest, test_size=100, shuffle=True, random_state=42)\n",
    "print(x_train.shape)\n",
    "# print(x_val.shape)\n",
    "print(x_test.shape)"
   ]
  },
  {
   "cell_type": "markdown",
   "metadata": {},
   "source": [
    "#### Modelling"
   ]
  },
  {
   "cell_type": "code",
   "execution_count": 57,
   "metadata": {},
   "outputs": [
    {
     "data": {
      "text/html": [
       "<div>\n",
       "<style scoped>\n",
       "    .dataframe tbody tr th:only-of-type {\n",
       "        vertical-align: middle;\n",
       "    }\n",
       "\n",
       "    .dataframe tbody tr th {\n",
       "        vertical-align: top;\n",
       "    }\n",
       "\n",
       "    .dataframe thead th {\n",
       "        text-align: right;\n",
       "    }\n",
       "</style>\n",
       "<table border=\"1\" class=\"dataframe\">\n",
       "  <thead>\n",
       "    <tr style=\"text-align: right;\">\n",
       "      <th></th>\n",
       "      <th>clf_name</th>\n",
       "      <th>clf_accuracy</th>\n",
       "    </tr>\n",
       "  </thead>\n",
       "  <tbody>\n",
       "    <tr>\n",
       "      <th>1</th>\n",
       "      <td>CatBoost</td>\n",
       "      <td>0.564470</td>\n",
       "    </tr>\n",
       "    <tr>\n",
       "      <th>2</th>\n",
       "      <td>LightGBM</td>\n",
       "      <td>0.547386</td>\n",
       "    </tr>\n",
       "    <tr>\n",
       "      <th>0</th>\n",
       "      <td>XGBoost</td>\n",
       "      <td>0.506833</td>\n",
       "    </tr>\n",
       "  </tbody>\n",
       "</table>\n",
       "</div>"
      ],
      "text/plain": [
       "   clf_name  clf_accuracy\n",
       "1  CatBoost      0.564470\n",
       "2  LightGBM      0.547386\n",
       "0   XGBoost      0.506833"
      ]
     },
     "execution_count": 57,
     "metadata": {},
     "output_type": "execute_result"
    }
   ],
   "source": [
    "defaults = pd.DataFrame([['XGBoost',0],['CatBoost',0],['LightGBM',0]],columns=['clf_name', 'clf_accuracy'])\n",
    "models = [XGBClassifier(random_state=random_state), CatBoostClassifier(random_state=random_state, verbose=0), LGBMClassifier(random_state=random_state)]\n",
    "\n",
    "cv = KFold(n_splits=5)\n",
    "\n",
    "for index, model in enumerate(models):\n",
    "    accuracies = []  # List to store the accuracy of each fold\n",
    "    for train_index, test_index in cv.split(x_train):\n",
    "        fx_train, fx_test = x_train.iloc[train_index], x_train.iloc[test_index]\n",
    "        fy_train, fy_test = y_train.iloc[train_index], y_train.iloc[test_index]\n",
    "\n",
    "        model.fit(fx_train, fy_train.values.ravel())\n",
    "\n",
    "        preds = model.predict(fx_test)\n",
    "\n",
    "        if index == 1:\n",
    "            preds = [True if item=='True' else False for item in model.predict(fx_test)]\n",
    "\n",
    "        accuracies.append(accuracy_score(fy_test, preds))\n",
    "    \n",
    "    mean_accuracy = np.mean(accuracies)\n",
    "    defaults.loc[index, 'clf_accuracy'] = mean_accuracy\n",
    "\n",
    "defaults.sort_values(by='clf_accuracy', ascending=False).head()"
   ]
  },
  {
   "cell_type": "markdown",
   "metadata": {},
   "source": [
    "#### Finetuning"
   ]
  },
  {
   "cell_type": "code",
   "execution_count": null,
   "metadata": {},
   "outputs": [],
   "source": [
    "def cb_objective(trial, X, y):\n",
    "    param_grid = {\n",
    "        \"learning_rate\": trial.suggest_float(\"learning_rate\", 0.01, 0.3),\n",
    "        \"depth\": trial.suggest_int(\"max_depth\", 3, 12),\n",
    "        #\"min_data_in_leaf\": trial.suggest_int(\"min_data_in_leaf\", 1, 300, step=1),\n",
    "        \"l2_leaf_reg\": trial.suggest_int(\"l2_leaf_reg\", 0, 20, step=1),\n",
    "        \"colsample_bylevel\": trial.suggest_float(\n",
    "            \"colsample_bylevel\", 0.5, 1, step=0.1\n",
    "        ),\n",
    "        \"subsample\": trial.suggest_float(\"subsample\", 0.5, 1, step=0.1),\n",
    "        \"random_strength\": trial.suggest_float(\"random_strength\", 0, 1, step=0.1),\n",
    "        #\"grow_policy\": trial.suggest_categorical(\"grow_policy\", [\"SymmetricTree\"]),\n",
    "        \"bagging_temperature\": trial.suggest_float('bagging_temperature', 0, 20, step=0.25)\n",
    "    }\n",
    "\n",
    "    cv = KFold(n_splits=5)\n",
    "\n",
    "    cv_scores = np.empty(5)\n",
    "    for idx, (train_idx, test_idx) in enumerate(cv.split(X, y)):\n",
    "        X_train, X_test = X.iloc[train_idx], X.iloc[test_idx]\n",
    "        y_train, y_test = y[train_idx], y[test_idx]\n",
    "\n",
    "        model = CatBoostClassifier(\n",
    "                              **param_grid,\n",
    "                              iterations=10000,\n",
    "                              loss_function='Logloss',\n",
    "                              random_seed=42,\n",
    "                              early_stopping_rounds=50,\n",
    "                              eval_metric='Accuracy',\n",
    "                              verbose=0\n",
    "                              )\n",
    " \n",
    "        model.fit(\n",
    "            X_train,\n",
    "            y_train,\n",
    "            eval_set=[(X_test, y_test)],\n",
    "            verbose=False,\n",
    "        )\n",
    "        preds = [True if item=='True' else False for item in model.predict(X_test)]\n",
    "        cv_scores[idx] = accuracy_score(y_test, preds)\n",
    "\n",
    "    return np.mean(cv_scores)\n",
    "\n",
    "study = optuna.create_study(direction=\"maximize\", study_name=\"CB Classifier\")\n",
    "func = lambda trial: cb_objective(trial, x_train, np.ravel(y_train.values))\n",
    "study.optimize(func, n_trials=100)\n",
    "\n",
    "print(f\"\\tBest value : {study.best_value:.5f}\")\n",
    "print(f\"\\tBest params:\")\n",
    "\n",
    "for key, value in study.best_params.items():\n",
    "    print(f\"\\t\\t{key}: {value}\")"
   ]
  },
  {
   "cell_type": "markdown",
   "metadata": {},
   "source": [
    "Best value : 0.65317\n",
    "\tBest params:\n",
    "\t\tlearning_rate: 0.13803526386053072\n",
    "\t\tmax_depth: 4\n",
    "\t\tl2_leaf_reg: 19\n",
    "\t\tcolsample_bylevel: 1.0\n",
    "\t\tsubsample: 0.7\n",
    "\t\trandom_strength: 1.0\n",
    "\t\tbagging_temperature: 4.5"
   ]
  },
  {
   "cell_type": "code",
   "execution_count": null,
   "metadata": {},
   "outputs": [],
   "source": [
    "def xgb_objective(trial, X, y):\n",
    "    param_grid = {\n",
    "        \"n_estimators\": trial.suggest_categorical(\"n_estimators\", [10000]),\n",
    "        \"eta\": trial.suggest_float(\"learning_rate\", 0.01, 0.3),\n",
    "        \"max_depth\": trial.suggest_int(\"max_depth\", 3, 12),\n",
    "        \"min_child_weight\": trial.suggest_int(\"min_child_weight\", 0, 10, step=1),\n",
    "        \"reg_lambda\": trial.suggest_int(\"reg_lambda\", 0, 20, step=2),\n",
    "        \"reg_alpha\": trial.suggest_int(\"reg_alpha\", 0, 20, step=2),\n",
    "        \"gamma\": trial.suggest_int(\"gamma\", 0, 10, step=1),\n",
    "        \"colsample_bytree\": trial.suggest_float(\n",
    "            \"colsample_bytree\", 0.5, 1, step=0.1\n",
    "        ),\n",
    "        \"subsample\": trial.suggest_float(\"subsample\", 0.5, 1, step=0.1),\n",
    "    }\n",
    "\n",
    "    cv = KFold(n_splits=5)\n",
    "\n",
    "    cv_scores = np.empty(5)\n",
    "    for idx, (train_idx, test_idx) in enumerate(cv.split(X, y)):\n",
    "        X_train, X_test = X.iloc[train_idx], X.iloc[test_idx]\n",
    "        y_train, y_test = y[train_idx], y[test_idx]\n",
    "\n",
    "        model = XGBClassifier(objective='binary:logistic', **param_grid, early_stopping_rounds=50, eval_metric=\"logloss\", verbosity=0, n_jobs=4, random_state=42)\n",
    "        model.fit(\n",
    "            X_train,\n",
    "            y_train,\n",
    "            eval_set=[(X_test, y_test)],\n",
    "            verbose=False,\n",
    "        )\n",
    "        preds = model.predict_proba(X_test)\n",
    "        cv_scores[idx] = log_loss(y_test, preds)\n",
    "\n",
    "    return np.mean(cv_scores)\n",
    "\n",
    "study = optuna.create_study(direction=\"minimize\", study_name=\"XGB Classifier\")\n",
    "func = lambda trial: xgb_objective(trial, x_train, np.ravel(y_train.values))\n",
    "study.optimize(func, n_trials=200)\n",
    "\n",
    "print(f\"\\tBest value: {study.best_value:.5f}\")\n",
    "print(f\"\\tBest params:\")\n",
    "\n",
    "for key, value in study.best_params.items():\n",
    "    print(f\"\\t\\t{key}: {value}\")"
   ]
  },
  {
   "cell_type": "markdown",
   "metadata": {},
   "source": [
    "Best value: 0.66288\n",
    "\tBest params:\n",
    "\t\tn_estimators: 10000\n",
    "\t\tlearning_rate: 0.22707789895194652\n",
    "\t\tmax_depth: 3\n",
    "\t\tmin_child_weight: 2\n",
    "\t\treg_lambda: 14\n",
    "\t\treg_alpha: 8\n",
    "\t\tgamma: 0\n",
    "\t\tcolsample_bytree: 0.9\n",
    "\t\tsubsample: 0.5"
   ]
  },
  {
   "cell_type": "code",
   "execution_count": null,
   "metadata": {},
   "outputs": [],
   "source": [
    "def lgb_objective(trial, X, y):\n",
    "    param_grid = {\n",
    "        \"n_estimators\": trial.suggest_categorical(\"n_estimators\", [10000]),\n",
    "        \"learning_rate\": trial.suggest_float(\"learning_rate\", 0.01, 0.3),\n",
    "        \"num_leaves\": trial.suggest_int(\"num_leaves\", 20, 3000, step=20),\n",
    "        \"max_depth\": trial.suggest_int(\"max_depth\", 3, 12),\n",
    "        \"min_data_in_leaf\": trial.suggest_int(\"min_data_in_leaf\", 1, 30),\n",
    "        \"lambda_l1\": trial.suggest_int(\"lambda_l1\", 0, 20),\n",
    "        \"lambda_l2\": trial.suggest_int(\"lambda_l2\", 0, 20),\n",
    "        \"min_gain_to_split\": trial.suggest_float(\"min_gain_to_split\", 0, 15),\n",
    "        \"bagging_fraction\": trial.suggest_float(\n",
    "            \"bagging_fraction\", 0.6, 1, step=0.1\n",
    "        ),\n",
    "        \"bagging_freq\": trial.suggest_int(\"bagging_freq\", 5, 50, step=5),\n",
    "        \"feature_fraction\": trial.suggest_float(\n",
    "            \"feature_fraction\", 0.6, 1, step=0.1\n",
    "        ),\n",
    "        \"subsample\": trial.suggest_float(\"subsample\", 0.6, 1, step=0.1)\n",
    "    }\n",
    "\n",
    "    cv = KFold(n_splits=5)\n",
    "\n",
    "    cv_scores = np.empty(5)\n",
    "    for idx, (train_idx, test_idx) in enumerate(cv.split(X, y)):\n",
    "        X_train, X_test = X.iloc[train_idx], X.iloc[test_idx]\n",
    "        y_train, y_test = y[train_idx], y[test_idx]\n",
    "\n",
    "        model = LGBMClassifier(objective=\"binary\", **param_grid, random_state=42, verbosity=-1, early_stopping_rounds=50)\n",
    "        model.fit(\n",
    "            X_train,\n",
    "            y_train,\n",
    "            eval_set=[(X_test, y_test)],\n",
    "            eval_metric=\"binary_error\",\n",
    "            verbose=False\n",
    "        )\n",
    "        preds = model.predict(X_test)\n",
    "        cv_scores[idx] = accuracy_score(y_test, preds)\n",
    "\n",
    "    return np.mean(cv_scores)\n",
    "\n",
    "study = optuna.create_study(direction=\"maximize\", study_name=\"LGBM Classifier\")\n",
    "func = lambda trial: lgb_objective(trial, x_train, np.ravel(y_train.values))\n",
    "study.optimize(func, n_trials=100)\n",
    "\n",
    "print(f\"\\tBest value: {study.best_value:.5f}\")\n",
    "print(f\"\\tBest params:\")\n",
    "\n",
    "for key, value in study.best_params.items():\n",
    "    print(f\"\\t\\t{key}: {value}\")"
   ]
  },
  {
   "cell_type": "markdown",
   "metadata": {},
   "source": [
    "Best value: 0.63010\n",
    "\tBest params:\n",
    "\t\tn_estimators: 10000\n",
    "\t\tlearning_rate: 0.2314223134242193\n",
    "\t\tnum_leaves: 2020\n",
    "\t\tmax_depth: 3\n",
    "\t\tmin_data_in_leaf: 4\n",
    "\t\tlambda_l1: 0\n",
    "\t\tlambda_l2: 5\n",
    "\t\tmin_gain_to_split: 0.6299949073662396\n",
    "\t\tbagging_fraction: 1.0\n",
    "\t\tbagging_freq: 45\n",
    "\t\tfeature_fraction: 0.8\n",
    "\t\tsubsample: 0.6"
   ]
  },
  {
   "cell_type": "markdown",
   "metadata": {},
   "source": [
    "#### Finding the optimal number of n_estimators for the chosen hyperparameters"
   ]
  },
  {
   "cell_type": "code",
   "execution_count": 15,
   "metadata": {},
   "outputs": [
    {
     "name": "stdout",
     "output_type": "stream",
     "text": [
      "14.8\n"
     ]
    }
   ],
   "source": [
    "# XGBOOST\n",
    "model = XGBClassifier(\n",
    "        objective='binary:logistic', \n",
    "        n_estimators= 10000,\n",
    "\t\tlearning_rate= 0.23007977663979073,\n",
    "\t\tmax_depth= 11,\n",
    "\t\tmin_child_weight= 8,\n",
    "\t\treg_lambda= 0,\n",
    "\t\treg_alpha= 0,\n",
    "\t\tgamma= 5,\n",
    "\t\tcolsample_bytree= 0.6,\n",
    "\t\tsubsample= 0.6,\n",
    "        early_stopping_rounds=50,\n",
    "        eval_metric=\"logloss\",\n",
    "        verbosity=0,\n",
    "        n_jobs=4,\n",
    "        random_state=42\n",
    "    )\n",
    "\n",
    "cv = KFold(n_splits=5)\n",
    "iters = np.empty(5)\n",
    "\n",
    "for idx, (train_idx, test_idx) in enumerate(cv.split(x_train, y_train)):\n",
    "    fx_train, fx_test = x_train.iloc[train_idx], x_train.iloc[test_idx]\n",
    "    fy_train, fy_test = y_train.iloc[train_idx], y_train.iloc[test_idx]\n",
    "\n",
    "    model.fit(\n",
    "        fx_train,\n",
    "        fy_train,\n",
    "        eval_set=[(fx_test, fy_test)],\n",
    "        verbose=False,\n",
    "    )\n",
    "    iters[idx] = model.best_iteration\n",
    "\n",
    "xgb_iters = np.mean(iters)\n",
    "print(xgb_iters)"
   ]
  },
  {
   "cell_type": "code",
   "execution_count": 3,
   "metadata": {},
   "outputs": [
    {
     "name": "stdout",
     "output_type": "stream",
     "text": [
      "19.6\n"
     ]
    }
   ],
   "source": [
    "#CatBoost\n",
    "model = CatBoostClassifier(\n",
    "        learning_rate= 0.13803526386053072,\n",
    "\t\tmax_depth= 4,\n",
    "\t\tl2_leaf_reg= 19,\n",
    "\t\tcolsample_bylevel= 1.0,\n",
    "\t\tsubsample= 0.7,\n",
    "\t\trandom_strength= 1.0,\n",
    "\t\tbagging_temperature= 4.5,\n",
    "        iterations=10000,\n",
    "        loss_function='Logloss',\n",
    "        random_seed=42,\n",
    "        early_stopping_rounds=50,\n",
    "        eval_metric='Accuracy',\n",
    "        verbose=0\n",
    "        )\n",
    "\n",
    "cv = KFold(n_splits=5)\n",
    "iters = np.empty(5)\n",
    "\n",
    "for idx, (train_idx, test_idx) in enumerate(cv.split(x_train, y_train)):\n",
    "    fx_train, fx_test = x_train.iloc[train_idx], x_train.iloc[test_idx]\n",
    "    fy_train, fy_test = y_train.iloc[train_idx], y_train.iloc[test_idx]\n",
    "\n",
    "    model.fit(\n",
    "        fx_train,\n",
    "        fy_train,\n",
    "        eval_set=[(fx_test, fy_test)],\n",
    "        verbose=False,\n",
    "    )\n",
    "    iters[idx] = model.get_best_iteration()\n",
    "\n",
    "cb_iters = np.mean(iters)\n",
    "print(cb_iters)"
   ]
  },
  {
   "cell_type": "code",
   "execution_count": null,
   "metadata": {},
   "outputs": [],
   "source": [
    "#LGB\n",
    "model = LGBMClassifier(\n",
    "        objective=\"binary\", \n",
    "        random_state=42, \n",
    "        verbosity=-1, \n",
    "        early_stopping_rounds=50,\n",
    "        n_estimators=10000,\n",
    "\t\tlearning_rate=0.2314223134242193,\n",
    "\t\tnum_leaves=2020,\n",
    "\t\tmax_depth=3,\n",
    "\t\tmin_data_in_leaf=4,\n",
    "\t\tlambda_l1=0,\n",
    "\t\tlambda_l2=5,\n",
    "\t\tmin_gain_to_split=0.6299949073662396,\n",
    "\t\tbagging_fraction=1.0,\n",
    "\t\tbagging_freq=45,\n",
    "\t\tfeature_fraction=0.8,\n",
    "\t\tsubsample=0.6\n",
    "        )\n",
    "\n",
    "cv = KFold(n_splits=5)\n",
    "iters = np.empty(5)\n",
    "\n",
    "for idx, (train_idx, test_idx) in enumerate(cv.split(x_train, y_train)):\n",
    "    fx_train, fx_test = x_train.iloc[train_idx], x_train.iloc[test_idx]\n",
    "    fy_train, fy_test = y_train.iloc[train_idx], y_train.iloc[test_idx]\n",
    "\n",
    "    model.fit(\n",
    "        fx_train,\n",
    "        fy_train,\n",
    "        eval_set=[(fx_test, fy_test)],\n",
    "        eval_metric=\"binary_error\",\n",
    "        verbose=False,\n",
    "    )\n",
    "    iters[idx] = model.best_iteration_\n",
    "\n",
    "lgb_iters = np.mean(iters)\n",
    "print(lgb_iters)"
   ]
  },
  {
   "cell_type": "code",
   "execution_count": 7,
   "metadata": {},
   "outputs": [
    {
     "name": "stdout",
     "output_type": "stream",
     "text": [
      "8.0\n"
     ]
    }
   ],
   "source": [
    "print(lgb_iters)"
   ]
  },
  {
   "cell_type": "markdown",
   "metadata": {},
   "source": [
    "#### Testing on test set"
   ]
  },
  {
   "cell_type": "code",
   "execution_count": 18,
   "metadata": {},
   "outputs": [
    {
     "name": "stdout",
     "output_type": "stream",
     "text": [
      "0.54\n"
     ]
    }
   ],
   "source": [
    "xgb = XGBClassifier(\n",
    "        objective='binary:logistic', \n",
    "        n_estimators= 15,\n",
    "\t\tlearning_rate= 0.23007977663979073,\n",
    "\t\tmax_depth= 11,\n",
    "\t\tmin_child_weight= 8,\n",
    "\t\treg_lambda= 0,\n",
    "\t\treg_alpha= 0,\n",
    "\t\tgamma= 5,\n",
    "\t\tcolsample_bytree= 0.6,\n",
    "\t\tsubsample= 0.6,\n",
    "        verbosity=0,\n",
    "        n_jobs=4,\n",
    "        random_state=42\n",
    "    )\n",
    "\n",
    "xgb.fit(x_train, y_train, verbose=False)\n",
    "preds = xgb.predict(x_test)\n",
    "print(accuracy_score(y_test, preds))"
   ]
  },
  {
   "cell_type": "code",
   "execution_count": 8,
   "metadata": {},
   "outputs": [
    {
     "name": "stdout",
     "output_type": "stream",
     "text": [
      "0.56\n"
     ]
    }
   ],
   "source": [
    "cb = CatBoostClassifier(\n",
    "        learning_rate= 0.13803526386053072,\n",
    "\t\tmax_depth= 4,\n",
    "\t\tl2_leaf_reg= 19,\n",
    "\t\tcolsample_bylevel= 1.0,\n",
    "\t\tsubsample= 0.7,\n",
    "\t\trandom_strength= 1.0,\n",
    "\t\tbagging_temperature= 4.5,\n",
    "        iterations=20,\n",
    "        loss_function='Logloss',\n",
    "        random_seed=42,\n",
    "        verbose=0\n",
    ")   \n",
    "\n",
    "cb.fit(x_train, y_train, verbose=False)\n",
    "preds = [True if item=='True' else False for item in cb.predict(x_test)]\n",
    "print(accuracy_score(y_test, preds))"
   ]
  },
  {
   "cell_type": "code",
   "execution_count": 9,
   "metadata": {},
   "outputs": [
    {
     "name": "stdout",
     "output_type": "stream",
     "text": [
      "[LightGBM] [Warning] feature_fraction is set=0.8, colsample_bytree=1.0 will be ignored. Current value: feature_fraction=0.8\n",
      "[LightGBM] [Warning] min_data_in_leaf is set=4, min_child_samples=20 will be ignored. Current value: min_data_in_leaf=4\n",
      "[LightGBM] [Warning] min_gain_to_split is set=0.6299949073662396, min_split_gain=0.0 will be ignored. Current value: min_gain_to_split=0.6299949073662396\n",
      "[LightGBM] [Warning] bagging_fraction is set=1.0, subsample=0.6 will be ignored. Current value: bagging_fraction=1.0\n",
      "[LightGBM] [Warning] lambda_l1 is set=0, reg_alpha=0.0 will be ignored. Current value: lambda_l1=0\n",
      "[LightGBM] [Warning] lambda_l2 is set=5, reg_lambda=0.0 will be ignored. Current value: lambda_l2=5\n",
      "[LightGBM] [Warning] bagging_freq is set=45, subsample_freq=0 will be ignored. Current value: bagging_freq=45\n",
      "0.56\n"
     ]
    }
   ],
   "source": [
    "lgb = LGBMClassifier(\n",
    "        objective=\"binary\", \n",
    "        random_state=42, \n",
    "        verbosity=-1, \n",
    "        n_estimators=8,\n",
    "\t\tlearning_rate=0.2314223134242193,\n",
    "\t\tnum_leaves=2020,\n",
    "\t\tmax_depth=3,\n",
    "\t\tmin_data_in_leaf=4,\n",
    "\t\tlambda_l1=0,\n",
    "\t\tlambda_l2=5,\n",
    "\t\tmin_gain_to_split=0.6299949073662396,\n",
    "\t\tbagging_fraction=1.0,\n",
    "\t\tbagging_freq=45,\n",
    "\t\tfeature_fraction=0.8,\n",
    "\t\tsubsample=0.6\n",
    ")\n",
    "\n",
    "lgb.fit(x_train, y_train.values.ravel())\n",
    "preds = lgb.predict(x_test)\n",
    "print(accuracy_score(y_test, preds))"
   ]
  },
  {
   "cell_type": "markdown",
   "metadata": {},
   "source": [
    "#### Feature importance"
   ]
  },
  {
   "cell_type": "code",
   "execution_count": 12,
   "metadata": {},
   "outputs": [
    {
     "data": {
      "image/png": "[encoded data removed]",
      "text/plain": [
       "<Figure size 640x480 with 1 Axes>"
      ]
     },
     "metadata": {},
     "output_type": "display_data"
    }
   ],
   "source": [
    "#XGBoost\n",
    "plot_importance(xgb)\n",
    "plt.show()"
   ]
  },
  {
   "cell_type": "code",
   "execution_count": 14,
   "metadata": {},
   "outputs": [
    {
     "name": "stdout",
     "output_type": "stream",
     "text": [
      "[('t1_coef_dif', 16.98071865823163), ('t1_avg_won_dif', 11.373770785490676), ('t1_avg_lost_dif', 8.415125857511859), ('t1_pistol_dif', 7.293936827435082), ('t1_played_dif', 6.985897703911737), ('t1_rating_dif', 6.965695874501395), ('t1_pluses_dif', 6.8823118997934785), ('t1_rounds_won_dif', 6.659640941854887), ('t1_fp_percent_dif', 6.020925966431849), ('t1_5v4_dif', 4.8136615343002855), ('t1_num_maps_dif', 4.17496593031647), ('t1_event_rating_dif', 4.08382010883435), ('t1_4v5_dif', 1.9920463265332118), ('t1_ranking_dif', 1.963934106870584), ('t1_rounds_lost_dif', 1.8382961849354733), ('t1_winrate_dif', 1.5861924768493365), ('t1_h2h_dif', 1.5030639495647973), ('t1_winstreak_dif', 0.27413972433970435), ('t1_map_winstreak_dif', 0.17023534246515698), ('t1_map_losestreak_dif', 0.021619799828046318), ('t1_minuses_dif', 0.0), ('t1_fp', 0.0), ('t2_fp', 0.0)]\n"
     ]
    }
   ],
   "source": [
    "#CatBoost\n",
    "feature_importances = cb.get_feature_importance()\n",
    "feature_names = cb.feature_names_\n",
    "importances = sorted(zip(feature_names, feature_importances), key=lambda x: x[1], reverse=True)\n",
    "print(importances)"
   ]
  },
  {
   "cell_type": "code",
   "execution_count": 17,
   "metadata": {},
   "outputs": [
    {
     "data": {
      "image/png": "[encoded data removed]",
      "text/plain": [
       "<Figure size 640x480 with 1 Axes>"
      ]
     },
     "metadata": {},
     "output_type": "display_data"
    }
   ],
   "source": [
    "#LightGBM\n",
    "plot_importance(lgb)\n",
    "plt.show()"
   ]
  },
  {
   "cell_type": "markdown",
   "metadata": {},
   "source": [
    "### Experiment 2. All features + differences"
   ]
  },
  {
   "cell_type": "markdown",
   "metadata": {},
   "source": [
    "#### Prepare data"
   ]
  },
  {
   "cell_type": "code",
   "execution_count": 6,
   "metadata": {},
   "outputs": [],
   "source": [
    "cols_name = [df.columns[i]+'_dif' for i in range(0,len(df.columns[:22]),2)] + [df.columns[i]+'_dif' for i in range(22, 24)] + [df.columns[i]+'_dif' for i in range(25, 33)]\n",
    "\n",
    "for index, name in enumerate(cols_name[:11]):\n",
    "    df[name] = df[df.columns[index*2]] - df[df.columns[index*2+1]]\n",
    "\n",
    "for index, name in enumerate(cols_name[11:13]):\n",
    "    df[name] = df[df.columns[22+index]] - df[df.columns[33+index]]\n",
    "\n",
    "for index, name in enumerate(cols_name[13:]):\n",
    "    df[name] = df[df.columns[25+index]] - df[df.columns[36+index]]\n",
    "\n",
    "df.to_csv('all+diffs.csv',index=False)"
   ]
  },
  {
   "cell_type": "code",
   "execution_count": 18,
   "metadata": {},
   "outputs": [
    {
     "name": "stdout",
     "output_type": "stream",
     "text": [
      "(519, 65)\n",
      "(100, 65)\n"
     ]
    }
   ],
   "source": [
    "dataset = pd.read_csv('all+diffs.csv')\n",
    "\n",
    "Y = dataset.loc[:,'result']\n",
    "X = dataset.drop('result',axis=1)\n",
    "x_train, x_test, y_train, y_test = train_test_split(X, Y, test_size=100, shuffle=True, random_state=42)\n",
    "print(x_train.shape)\n",
    "print(x_test.shape)"
   ]
  },
  {
   "cell_type": "markdown",
   "metadata": {},
   "source": [
    "#### Modelling"
   ]
  },
  {
   "cell_type": "code",
   "execution_count": 18,
   "metadata": {},
   "outputs": [
    {
     "data": {
      "text/html": [
       "<div>\n",
       "<style scoped>\n",
       "    .dataframe tbody tr th:only-of-type {\n",
       "        vertical-align: middle;\n",
       "    }\n",
       "\n",
       "    .dataframe tbody tr th {\n",
       "        vertical-align: top;\n",
       "    }\n",
       "\n",
       "    .dataframe thead th {\n",
       "        text-align: right;\n",
       "    }\n",
       "</style>\n",
       "<table border=\"1\" class=\"dataframe\">\n",
       "  <thead>\n",
       "    <tr style=\"text-align: right;\">\n",
       "      <th></th>\n",
       "      <th>clf_name</th>\n",
       "      <th>clf_accuracy</th>\n",
       "    </tr>\n",
       "  </thead>\n",
       "  <tbody>\n",
       "    <tr>\n",
       "      <th>1</th>\n",
       "      <td>CatBoost</td>\n",
       "      <td>0.591561</td>\n",
       "    </tr>\n",
       "    <tr>\n",
       "      <th>2</th>\n",
       "      <td>LightGBM</td>\n",
       "      <td>0.549160</td>\n",
       "    </tr>\n",
       "    <tr>\n",
       "      <th>0</th>\n",
       "      <td>XGBoost</td>\n",
       "      <td>0.537640</td>\n",
       "    </tr>\n",
       "  </tbody>\n",
       "</table>\n",
       "</div>"
      ],
      "text/plain": [
       "   clf_name  clf_accuracy\n",
       "1  CatBoost      0.591561\n",
       "2  LightGBM      0.549160\n",
       "0   XGBoost      0.537640"
      ]
     },
     "execution_count": 18,
     "metadata": {},
     "output_type": "execute_result"
    }
   ],
   "source": [
    "defaults = pd.DataFrame([['XGBoost',0],['CatBoost',0],['LightGBM',0]],columns=['clf_name', 'clf_accuracy'])\n",
    "models = [XGBClassifier(random_state=random_state), CatBoostClassifier(random_state=random_state, verbose=0), LGBMClassifier(random_state=random_state)]\n",
    "\n",
    "cv = KFold(n_splits=5)\n",
    "\n",
    "for index, model in enumerate(models):\n",
    "    accuracies = []  # List to store the accuracy of each fold\n",
    "    for train_index, test_index in cv.split(x_train):\n",
    "        fx_train, fx_test = x_train.iloc[train_index], x_train.iloc[test_index]\n",
    "        fy_train, fy_test = y_train.iloc[train_index], y_train.iloc[test_index]\n",
    "\n",
    "        model.fit(fx_train, fy_train.values.ravel())\n",
    "\n",
    "        preds = model.predict(fx_test)\n",
    "\n",
    "        if index == 1:\n",
    "            preds = [True if item=='True' else False for item in model.predict(fx_test)]\n",
    "\n",
    "        accuracies.append(accuracy_score(fy_test, preds))\n",
    "    \n",
    "    mean_accuracy = np.mean(accuracies)\n",
    "    defaults.loc[index, 'clf_accuracy'] = mean_accuracy\n",
    "\n",
    "defaults.sort_values(by='clf_accuracy', ascending=False).head()"
   ]
  },
  {
   "cell_type": "markdown",
   "metadata": {},
   "source": [
    "#### Fine-tuning"
   ]
  },
  {
   "cell_type": "code",
   "execution_count": null,
   "metadata": {},
   "outputs": [],
   "source": [
    "#CatBoost\n",
    "def cb_objective(trial, X, y):\n",
    "    param_grid = {\n",
    "        \"learning_rate\": trial.suggest_float(\"learning_rate\", 0.01, 0.3),\n",
    "        \"depth\": trial.suggest_int(\"max_depth\", 3, 12),\n",
    "        \"min_data_in_leaf\": trial.suggest_int(\"min_data_in_leaf\", 1, 50, step=1),\n",
    "        \"l2_leaf_reg\": trial.suggest_int(\"l2_leaf_reg\", 0, 20, step=1),\n",
    "        \"colsample_bylevel\": trial.suggest_float(\n",
    "            \"colsample_bylevel\", 0.5, 1, step=0.1\n",
    "        ),\n",
    "        \"subsample\": trial.suggest_float(\"subsample\", 0.5, 1, step=0.1),\n",
    "        \"random_strength\": trial.suggest_float(\"random_strength\", 0, 1, step=0.1),\n",
    "        #\"grow_policy\": trial.suggest_categorical(\"grow_policy\", [\"SymmetricTree\"]),\n",
    "        \"bagging_temperature\": trial.suggest_float('bagging_temperature', 0, 20, step=0.25)\n",
    "    }\n",
    "\n",
    "    cv = KFold(n_splits=5)\n",
    "\n",
    "    cv_scores = np.empty(5)\n",
    "    for idx, (train_idx, test_idx) in enumerate(cv.split(X, y)):\n",
    "        X_train, X_test = X.iloc[train_idx], X.iloc[test_idx]\n",
    "        y_train, y_test = y[train_idx], y[test_idx]\n",
    "\n",
    "        model = CatBoostClassifier(\n",
    "                              **param_grid,\n",
    "                              iterations=10000,\n",
    "                              loss_function='Logloss',\n",
    "                              random_seed=42,\n",
    "                              early_stopping_rounds=50,\n",
    "                              eval_metric='Accuracy',\n",
    "                              verbose=0\n",
    "                              )\n",
    " \n",
    "        model.fit(\n",
    "            X_train,\n",
    "            y_train,\n",
    "            eval_set=[(X_test, y_test)],\n",
    "            verbose=False,\n",
    "        )\n",
    "        preds = [True if item=='True' else False for item in model.predict(X_test)]\n",
    "        cv_scores[idx] = accuracy_score(y_test, preds)\n",
    "\n",
    "    return np.mean(cv_scores)\n",
    "\n",
    "study = optuna.create_study(direction=\"maximize\", study_name=\"CB Classifier\")\n",
    "func = lambda trial: cb_objective(trial, x_train, np.ravel(y_train.values))\n",
    "study.optimize(func, n_trials=200)\n",
    "\n",
    "print(f\"\\tBest value : {study.best_value:.5f}\")\n",
    "print(f\"\\tBest params:\")\n",
    "\n",
    "for key, value in study.best_params.items():\n",
    "    print(f\"\\t\\t{key}: {value}\")"
   ]
  },
  {
   "cell_type": "markdown",
   "metadata": {},
   "source": [
    "Best value : 0.65902\n",
    "\tBest params:\n",
    "\t\tlearning_rate: 0.05351839411162072\n",
    "\t\tmax_depth: 4\n",
    "\t\tmin_data_in_leaf: 31\n",
    "\t\tl2_leaf_reg: 3\n",
    "\t\tcolsample_bylevel: 1.0\n",
    "\t\tsubsample: 0.5\n",
    "\t\trandom_strength: 0.8\n",
    "\t\tbagging_temperature: 10.25"
   ]
  },
  {
   "cell_type": "code",
   "execution_count": null,
   "metadata": {},
   "outputs": [],
   "source": [
    "#XGBoost\n",
    "def xgb_objective(trial, X, y):\n",
    "    param_grid = {\n",
    "        \"n_estimators\": trial.suggest_categorical(\"n_estimators\", [10000]),\n",
    "        \"eta\": trial.suggest_float(\"learning_rate\", 0.01, 0.3),\n",
    "        \"max_depth\": trial.suggest_int(\"max_depth\", 3, 12),\n",
    "        \"min_child_weight\": trial.suggest_int(\"min_child_weight\", 0, 10, step=1),\n",
    "        \"reg_lambda\": trial.suggest_int(\"reg_lambda\", 0, 20, step=2),\n",
    "        \"reg_alpha\": trial.suggest_int(\"reg_alpha\", 0, 20, step=2),\n",
    "        \"gamma\": trial.suggest_int(\"gamma\", 0, 10, step=1),\n",
    "        \"colsample_bytree\": trial.suggest_float(\n",
    "            \"colsample_bytree\", 0.5, 1, step=0.1\n",
    "        ),\n",
    "        \"subsample\": trial.suggest_float(\"subsample\", 0.5, 1, step=0.1),\n",
    "    }\n",
    "\n",
    "    cv = KFold(n_splits=5)\n",
    "\n",
    "    cv_scores = np.empty(5)\n",
    "    for idx, (train_idx, test_idx) in enumerate(cv.split(X, y)):\n",
    "        X_train, X_test = X.iloc[train_idx], X.iloc[test_idx]\n",
    "        y_train, y_test = y[train_idx], y[test_idx]\n",
    "\n",
    "        model = XGBClassifier(objective='binary:logistic', **param_grid, early_stopping_rounds=50, eval_metric=\"error\", verbosity=0, n_jobs=4, random_state=42)\n",
    "        model.fit(\n",
    "            X_train,\n",
    "            y_train,\n",
    "            eval_set=[(X_test, y_test)],\n",
    "            verbose=False,\n",
    "        )\n",
    "        preds = model.predict(X_test)\n",
    "        cv_scores[idx] = accuracy_score(y_test, preds)\n",
    "\n",
    "    return np.mean(cv_scores)\n",
    "\n",
    "study = optuna.create_study(direction=\"maximize\", study_name=\"XGB Classifier\")\n",
    "func = lambda trial: xgb_objective(trial, x_train, np.ravel(y_train.values))\n",
    "study.optimize(func, n_trials=200)\n",
    "\n",
    "print(f\"\\tBest value: {study.best_value:.5f}\")\n",
    "print(f\"\\tBest params:\")\n",
    "\n",
    "for key, value in study.best_params.items():\n",
    "    print(f\"\\t\\t{key}: {value}\")"
   ]
  },
  {
   "cell_type": "markdown",
   "metadata": {},
   "source": [
    "Best value: 0.64554\n",
    "\tBest params:\n",
    "\t\tn_estimators: 10000\n",
    "\t\tlearning_rate: 0.060726041010120094\n",
    "\t\tmax_depth: 4\n",
    "\t\tmin_child_weight: 9\n",
    "\t\treg_lambda: 2\n",
    "\t\treg_alpha: 0\n",
    "\t\tgamma: 2\n",
    "\t\tcolsample_bytree: 0.6\n",
    "\t\tsubsample: 0.5"
   ]
  },
  {
   "cell_type": "code",
   "execution_count": null,
   "metadata": {},
   "outputs": [],
   "source": [
    "#LGBClassifier\n",
    "def lgb_objective(trial, X, y):\n",
    "    param_grid = {\n",
    "        \"n_estimators\": trial.suggest_categorical(\"n_estimators\", [10000]),\n",
    "        \"learning_rate\": trial.suggest_float(\"learning_rate\", 0.01, 0.3),\n",
    "        \"num_leaves\": trial.suggest_int(\"num_leaves\", 20, 3000, step=20),\n",
    "        \"max_depth\": trial.suggest_int(\"max_depth\", 3, 12),\n",
    "        \"min_data_in_leaf\": trial.suggest_int(\"min_data_in_leaf\", 1, 30),\n",
    "        \"lambda_l1\": trial.suggest_int(\"lambda_l1\", 0, 20),\n",
    "        \"lambda_l2\": trial.suggest_int(\"lambda_l2\", 0, 20),\n",
    "        \"min_gain_to_split\": trial.suggest_float(\"min_gain_to_split\", 0, 15),\n",
    "        \"bagging_fraction\": trial.suggest_float(\n",
    "            \"bagging_fraction\", 0.6, 1, step=0.1\n",
    "        ),\n",
    "        \"bagging_freq\": trial.suggest_int(\"bagging_freq\", 5, 50, step=5),\n",
    "        \"feature_fraction\": trial.suggest_float(\n",
    "            \"feature_fraction\", 0.6, 1, step=0.1\n",
    "        ),\n",
    "        \"subsample\": trial.suggest_float(\"subsample\", 0.6, 1, step=0.1)\n",
    "    }\n",
    "\n",
    "    cv = KFold(n_splits=5)\n",
    "\n",
    "    cv_scores = np.empty(5)\n",
    "    for idx, (train_idx, test_idx) in enumerate(cv.split(X, y)):\n",
    "        X_train, X_test = X.iloc[train_idx], X.iloc[test_idx]\n",
    "        y_train, y_test = y[train_idx], y[test_idx]\n",
    "\n",
    "        model = LGBMClassifier(objective=\"binary\", **param_grid, random_state=42, verbosity=-1, early_stopping_rounds=50)\n",
    "        model.fit(\n",
    "            X_train,\n",
    "            y_train,\n",
    "            eval_set=[(X_test, y_test)],\n",
    "            eval_metric=\"binary_error\",\n",
    "            verbose=False\n",
    "        )\n",
    "        preds = model.predict(X_test)\n",
    "        cv_scores[idx] = accuracy_score(y_test, preds)\n",
    "\n",
    "    return np.mean(cv_scores)\n",
    "\n",
    "study = optuna.create_study(direction=\"maximize\", study_name=\"LGBM Classifier\")\n",
    "func = lambda trial: lgb_objective(trial, x_train, np.ravel(y_train.values))\n",
    "study.optimize(func, n_trials=200)\n",
    "\n",
    "print(f\"\\tBest value: {study.best_value:.5f}\")\n",
    "print(f\"\\tBest params:\")\n",
    "\n",
    "for key, value in study.best_params.items():\n",
    "    print(f\"\\t\\t{key}: {value}\")"
   ]
  },
  {
   "cell_type": "markdown",
   "metadata": {},
   "source": [
    "Best value: 0.62431\n",
    "\tBest params:\n",
    "\t\tn_estimators: 10000\n",
    "\t\tlearning_rate: 0.09554692701030004\n",
    "\t\tnum_leaves: 2860\n",
    "\t\tmax_depth: 3\n",
    "\t\tmin_data_in_leaf: 9\n",
    "\t\tlambda_l1: 0\n",
    "\t\tlambda_l2: 18\n",
    "\t\tmin_gain_to_split: 4.111913891598791\n",
    "\t\tbagging_fraction: 1.0\n",
    "\t\tbagging_freq: 15\n",
    "\t\tfeature_fraction: 0.6\n",
    "\t\tsubsample: 1.0"
   ]
  },
  {
   "cell_type": "markdown",
   "metadata": {},
   "source": [
    "#### Finding optimal number of iterations"
   ]
  },
  {
   "cell_type": "code",
   "execution_count": 26,
   "metadata": {},
   "outputs": [
    {
     "name": "stdout",
     "output_type": "stream",
     "text": [
      "28.4\n"
     ]
    }
   ],
   "source": [
    "# XGBOOST\n",
    "model = XGBClassifier(\n",
    "        objective='binary:logistic', \n",
    "        n_estimators=10000,\n",
    "\t\tlearning_rate=0.060726041010120094,\n",
    "\t\tmax_depth=4,\n",
    "\t\tmin_child_weight=9,\n",
    "\t\treg_lambda=2,\n",
    "\t\treg_alpha=0,\n",
    "\t\tgamma=2,\n",
    "\t\tcolsample_bytree=0.6,\n",
    "\t\tsubsample=0.5,\n",
    "        early_stopping_rounds=50,\n",
    "        eval_metric=\"error\",\n",
    "        verbosity=0,\n",
    "        n_jobs=4,\n",
    "        random_state=42\n",
    "    )\n",
    "\n",
    "cv = KFold(n_splits=5)\n",
    "iters = np.empty(5)\n",
    "\n",
    "for idx, (train_idx, test_idx) in enumerate(cv.split(x_train, y_train)):\n",
    "    fx_train, fx_test = x_train.iloc[train_idx], x_train.iloc[test_idx]\n",
    "    fy_train, fy_test = y_train.iloc[train_idx], y_train.iloc[test_idx]\n",
    "\n",
    "    model.fit(\n",
    "        fx_train,\n",
    "        fy_train,\n",
    "        eval_set=[(fx_test, fy_test)],\n",
    "        verbose=False,\n",
    "    )\n",
    "    iters[idx] = model.best_iteration\n",
    "\n",
    "xgb_iters = np.mean(iters)\n",
    "print(xgb_iters)"
   ]
  },
  {
   "cell_type": "code",
   "execution_count": 27,
   "metadata": {},
   "outputs": [
    {
     "name": "stdout",
     "output_type": "stream",
     "text": [
      "9.0\n"
     ]
    }
   ],
   "source": [
    "#CatBoost\n",
    "model = CatBoostClassifier(\n",
    "        learning_rate= 0.05351839411162072,\n",
    "\t\tmax_depth= 4,\n",
    "        min_data_in_leaf= 31,\n",
    "\t\tl2_leaf_reg= 3,\n",
    "\t\tcolsample_bylevel= 1.0,\n",
    "\t\tsubsample= 0.5,\n",
    "\t\trandom_strength= 0.8,\n",
    "\t\tbagging_temperature= 10.25,\n",
    "        iterations=10000,\n",
    "        loss_function='Logloss',\n",
    "        random_seed=42,\n",
    "        early_stopping_rounds=50,\n",
    "        eval_metric='Accuracy',\n",
    "        verbose=0\n",
    "        )\n",
    "\n",
    "cv = KFold(n_splits=5)\n",
    "iters = np.empty(5)\n",
    "\n",
    "for idx, (train_idx, test_idx) in enumerate(cv.split(x_train, y_train)):\n",
    "    fx_train, fx_test = x_train.iloc[train_idx], x_train.iloc[test_idx]\n",
    "    fy_train, fy_test = y_train.iloc[train_idx], y_train.iloc[test_idx]\n",
    "\n",
    "    model.fit(\n",
    "        fx_train,\n",
    "        fy_train,\n",
    "        eval_set=[(fx_test, fy_test)],\n",
    "        verbose=False,\n",
    "    )\n",
    "    iters[idx] = model.get_best_iteration()\n",
    "\n",
    "cb_iters = np.mean(iters)\n",
    "print(cb_iters)"
   ]
  },
  {
   "cell_type": "code",
   "execution_count": null,
   "metadata": {},
   "outputs": [],
   "source": [
    "#LGB\n",
    "model = LGBMClassifier(\n",
    "        objective=\"binary\", \n",
    "        random_state=42, \n",
    "        verbosity=-1, \n",
    "        early_stopping_rounds=50,\n",
    "        n_estimators=10000,\n",
    "\t\tlearning_rate=0.09554692701030004,\n",
    "\t\tnum_leaves=2860,\n",
    "\t\tmax_depth=3,\n",
    "\t\tmin_data_in_leaf=9,\n",
    "\t\tlambda_l1=0,\n",
    "\t\tlambda_l2=18,\n",
    "\t\tmin_gain_to_split=4.111913891598791,\n",
    "\t\tbagging_fraction=1.0,\n",
    "\t\tbagging_freq=15,\n",
    "\t\tfeature_fraction=0.6,\n",
    "\t\tsubsample=1.0\n",
    "        )\n",
    "\n",
    "cv = KFold(n_splits=5)\n",
    "iters = np.empty(5)\n",
    "\n",
    "for idx, (train_idx, test_idx) in enumerate(cv.split(x_train, y_train)):\n",
    "    fx_train, fx_test = x_train.iloc[train_idx], x_train.iloc[test_idx]\n",
    "    fy_train, fy_test = y_train.iloc[train_idx], y_train.iloc[test_idx]\n",
    "\n",
    "    model.fit(\n",
    "        fx_train,\n",
    "        fy_train,\n",
    "        eval_set=[(fx_test, fy_test)],\n",
    "        eval_metric=\"binary_error\",\n",
    "        verbose=False,\n",
    "    )\n",
    "    iters[idx] = model.best_iteration_\n",
    "\n",
    "lgb_iters = np.mean(iters)\n",
    "print(lgb_iters)"
   ]
  },
  {
   "cell_type": "markdown",
   "metadata": {},
   "source": [
    "#### Testing on test set"
   ]
  },
  {
   "cell_type": "code",
   "execution_count": 19,
   "metadata": {},
   "outputs": [
    {
     "name": "stdout",
     "output_type": "stream",
     "text": [
      "0.54\n"
     ]
    }
   ],
   "source": [
    "xgb = XGBClassifier(\n",
    "        objective='binary:logistic', \n",
    "\t\tlearning_rate=0.060726041010120094,\n",
    "\t\tmax_depth=4,\n",
    "\t\tmin_child_weight=9,\n",
    "\t\treg_lambda=2,\n",
    "\t\treg_alpha=0,\n",
    "\t\tgamma=2,\n",
    "\t\tcolsample_bytree=0.6,\n",
    "\t\tsubsample=0.5,\n",
    "        verbosity=0,\n",
    "        n_jobs=4,\n",
    "        random_state=42,\n",
    "        n_estimators=28\n",
    "    )\n",
    "\n",
    "xgb.fit(x_train, y_train, verbose=False)\n",
    "preds = xgb.predict(x_test)\n",
    "print(accuracy_score(y_test, preds))"
   ]
  },
  {
   "cell_type": "code",
   "execution_count": 20,
   "metadata": {},
   "outputs": [
    {
     "name": "stdout",
     "output_type": "stream",
     "text": [
      "0.52\n"
     ]
    }
   ],
   "source": [
    "cb = CatBoostClassifier(\n",
    "        learning_rate= 0.05351839411162072,\n",
    "\t\tmax_depth= 4,\n",
    "        min_data_in_leaf= 31,\n",
    "\t\tl2_leaf_reg= 3,\n",
    "\t\tcolsample_bylevel= 1.0,\n",
    "\t\tsubsample= 0.5,\n",
    "\t\trandom_strength= 0.8,\n",
    "\t\tbagging_temperature= 10.25,\n",
    "        iterations=9,\n",
    "        loss_function='Logloss',\n",
    "        random_seed=42,\n",
    "        verbose=0\n",
    ")   \n",
    "\n",
    "cb.fit(x_train, y_train, verbose=False)\n",
    "preds = [True if item=='True' else False for item in cb.predict(x_test)]\n",
    "print(accuracy_score(y_test, preds))"
   ]
  },
  {
   "cell_type": "code",
   "execution_count": 21,
   "metadata": {},
   "outputs": [
    {
     "name": "stdout",
     "output_type": "stream",
     "text": [
      "[LightGBM] [Warning] feature_fraction is set=0.6, colsample_bytree=1.0 will be ignored. Current value: feature_fraction=0.6\n",
      "[LightGBM] [Warning] min_data_in_leaf is set=9, min_child_samples=20 will be ignored. Current value: min_data_in_leaf=9\n",
      "[LightGBM] [Warning] min_gain_to_split is set=4.111913891598791, min_split_gain=0.0 will be ignored. Current value: min_gain_to_split=4.111913891598791\n",
      "[LightGBM] [Warning] bagging_fraction is set=1.0, subsample=1.0 will be ignored. Current value: bagging_fraction=1.0\n",
      "[LightGBM] [Warning] lambda_l1 is set=0, reg_alpha=0.0 will be ignored. Current value: lambda_l1=0\n",
      "[LightGBM] [Warning] lambda_l2 is set=18, reg_lambda=0.0 will be ignored. Current value: lambda_l2=18\n",
      "[LightGBM] [Warning] bagging_freq is set=15, subsample_freq=0 will be ignored. Current value: bagging_freq=15\n",
      "0.55\n"
     ]
    }
   ],
   "source": [
    "lgb = LGBMClassifier(\n",
    "        objective=\"binary\", \n",
    "        random_state=42, \n",
    "        verbosity=-1, \n",
    "        n_estimators=6,\n",
    "\t\tlearning_rate=0.09554692701030004,\n",
    "\t\tnum_leaves=2860,\n",
    "\t\tmax_depth=3,\n",
    "\t\tmin_data_in_leaf=9,\n",
    "\t\tlambda_l1=0,\n",
    "\t\tlambda_l2=18,\n",
    "\t\tmin_gain_to_split=4.111913891598791,\n",
    "\t\tbagging_fraction=1.0,\n",
    "\t\tbagging_freq=15,\n",
    "\t\tfeature_fraction=0.6,\n",
    "\t\tsubsample=1.0\n",
    ")\n",
    "\n",
    "lgb.fit(x_train, y_train.values.ravel())\n",
    "preds = lgb.predict(x_test)\n",
    "print(accuracy_score(y_test, preds))"
   ]
  },
  {
   "cell_type": "markdown",
   "metadata": {},
   "source": [
    "#### Feature importance"
   ]
  },
  {
   "cell_type": "code",
   "execution_count": 26,
   "metadata": {},
   "outputs": [
    {
     "data": {
      "image/png": "[encoded data removed]",
      "text/plain": [
       "<Figure size 640x480 with 1 Axes>"
      ]
     },
     "metadata": {},
     "output_type": "display_data"
    }
   ],
   "source": [
    "#XGBoost\n",
    "xgboost.plot_importance(xgb)\n",
    "plt.show()"
   ]
  },
  {
   "cell_type": "code",
   "execution_count": 23,
   "metadata": {},
   "outputs": [
    {
     "name": "stdout",
     "output_type": "stream",
     "text": [
      "[('t1_coef_dif', 14.475957719567893), ('t2_coef', 14.327941603413151), ('t1_avg_lost_dif', 9.736783813390296), ('t1_coef', 7.943344493102026), ('t1_avg_won', 5.216711612633735), ('t1_num_maps', 4.682486149893089), ('t1_winrate_dif', 4.310640657909226), ('t2_event_rating', 4.218671746389398), ('t1_pistol_dif', 3.5370372918602886), ('t2_5v4', 3.314358598796716), ('t2_ranking', 2.7581192884719767), ('t1_fp_percent_dif', 2.736691259357291), ('t2_rounds_won', 2.4251891959319782), ('t1_map_winstreak', 2.420994063317271), ('t2_avg_lost', 2.3247620763989416), ('t1_pluses', 2.2492593106215657), ('t1_map_winstreak_dif', 2.1594757289351016), ('t2_avg_won', 2.0555001163567295), ('t1_event_rating', 1.8079504293468707), ('t2_num_maps', 1.7805307434467084), ('t1_event_rating_dif', 1.7720650211997788), ('t2_played', 1.1888967698705388), ('t1_winrate', 1.0973891607945727), ('t2_pistol', 1.064525401200743), ('t1_pluses_dif', 0.39471774779411495), ('t1_winstreak', 0.0), ('t2_winstreak', 0.0), ('t1_h2h', 0.0), ('t2_h2h', 0.0), ('t1_ranking', 0.0), ('t2_pluses', 0.0), ('t1_minuses', 0.0), ('t2_minuses', 0.0), ('t1_rating', 0.0), ('t2_rating', 0.0), ('t1_avg_lost', 0.0), ('t1_rounds_lost', 0.0), ('t1_rounds_won', 0.0), ('t1_fp', 0.0), ('t1_fp_percent', 0.0), ('t1_played', 0.0), ('t1_map_losestreak', 0.0), ('t1_5v4', 0.0), ('t1_4v5', 0.0), ('t1_pistol', 0.0), ('t2_rounds_lost', 0.0), ('t2_fp', 0.0), ('t2_fp_percent', 0.0), ('t2_winrate', 0.0), ('t2_map_winstreak', 0.0), ('t2_map_losestreak', 0.0), ('t2_4v5', 0.0), ('t1_winstreak_dif', 0.0), ('t1_h2h_dif', 0.0), ('t1_ranking_dif', 0.0), ('t1_minuses_dif', 0.0), ('t1_rating_dif', 0.0), ('t1_num_maps_dif', 0.0), ('t1_avg_won_dif', 0.0), ('t1_rounds_lost_dif', 0.0), ('t1_rounds_won_dif', 0.0), ('t1_played_dif', 0.0), ('t1_map_losestreak_dif', 0.0), ('t1_5v4_dif', 0.0), ('t1_4v5_dif', 0.0)]\n"
     ]
    }
   ],
   "source": [
    "#CatBoost\n",
    "feature_importances = cb.get_feature_importance()\n",
    "feature_names = cb.feature_names_\n",
    "importances = sorted(zip(feature_names, feature_importances), key=lambda x: x[1], reverse=True)\n",
    "print(importances)"
   ]
  },
  {
   "cell_type": "code",
   "execution_count": 24,
   "metadata": {},
   "outputs": [
    {
     "data": {
      "image/png": "[encoded data removed]",
      "text/plain": [
       "<Figure size 640x480 with 1 Axes>"
      ]
     },
     "metadata": {},
     "output_type": "display_data"
    }
   ],
   "source": [
    "#LightGBM\n",
    "plot_importance(lgb)\n",
    "plt.show()"
   ]
  },
  {
   "cell_type": "markdown",
   "metadata": {},
   "source": [
    "### Experiment 3. Different Data split (Same 100 for test, 10 fold -> 50 for validation) --> No particular effect (Deleted code cells since mainly was just copypasting from previous experiments with minor code changes)"
   ]
  },
  {
   "cell_type": "markdown",
   "metadata": {},
   "source": [
    "### Experiment 4. Tried to change the eval_metric to logloss --> No particular effect (Deleted code cells since mainly was just copypasting from previous experiments with minor code changes)"
   ]
  },
  {
   "cell_type": "markdown",
   "metadata": {},
   "source": [
    "### Experiment 5. Feature Selection + experimenting with eval_metric and optuna optimization metric."
   ]
  },
  {
   "cell_type": "markdown",
   "metadata": {},
   "source": [
    "#### Select K-best features (k=15)"
   ]
  },
  {
   "cell_type": "code",
   "execution_count": 60,
   "metadata": {},
   "outputs": [
    {
     "name": "stdout",
     "output_type": "stream",
     "text": [
      "['t1_h2h_dif' 't1_ranking_dif' 't1_pluses_dif' 't1_minuses_dif'\n",
      " 't1_coef_dif' 't1_rating_dif' 't1_avg_lost_dif' 't1_avg_won_dif'\n",
      " 't1_rounds_lost_dif' 't1_fp_percent_dif' 't1_winrate_dif' 't1_played_dif'\n",
      " 't1_map_winstreak_dif' 't1_map_losestreak_dif' 'fp_diff']\n",
      "(619, 15)\n",
      "(519, 15)\n",
      "(100, 15)\n"
     ]
    }
   ],
   "source": [
    "dataset = pd.read_csv('diffs.csv')\n",
    "Y = dataset.loc[:,['result']]\n",
    "X = dataset.drop('result',axis=1)\n",
    "\n",
    "k_best = SelectKBest(k=15).fit(X,Y.values.ravel())\n",
    "print(k_best.get_feature_names_out())\n",
    "X_k = pd.DataFrame(k_best.transform(X), columns=k_best.get_feature_names_out())\n",
    "print(X_k.shape)\n",
    "\n",
    "x_train, x_test, y_train, y_test = train_test_split(X_k, Y, test_size=100, shuffle=True, random_state=42)\n",
    "print(x_train.shape)\n",
    "print(x_test.shape)"
   ]
  },
  {
   "cell_type": "markdown",
   "metadata": {},
   "source": [
    "##### Modelling"
   ]
  },
  {
   "cell_type": "code",
   "execution_count": 61,
   "metadata": {},
   "outputs": [
    {
     "data": {
      "text/html": [
       "<div>\n",
       "<style scoped>\n",
       "    .dataframe tbody tr th:only-of-type {\n",
       "        vertical-align: middle;\n",
       "    }\n",
       "\n",
       "    .dataframe tbody tr th {\n",
       "        vertical-align: top;\n",
       "    }\n",
       "\n",
       "    .dataframe thead th {\n",
       "        text-align: right;\n",
       "    }\n",
       "</style>\n",
       "<table border=\"1\" class=\"dataframe\">\n",
       "  <thead>\n",
       "    <tr style=\"text-align: right;\">\n",
       "      <th></th>\n",
       "      <th>clf_name</th>\n",
       "      <th>clf_accuracy</th>\n",
       "    </tr>\n",
       "  </thead>\n",
       "  <tbody>\n",
       "    <tr>\n",
       "      <th>1</th>\n",
       "      <td>CatBoost</td>\n",
       "      <td>0.583682</td>\n",
       "    </tr>\n",
       "    <tr>\n",
       "      <th>2</th>\n",
       "      <td>LightGBM</td>\n",
       "      <td>0.554892</td>\n",
       "    </tr>\n",
       "    <tr>\n",
       "      <th>0</th>\n",
       "      <td>XGBoost</td>\n",
       "      <td>0.543335</td>\n",
       "    </tr>\n",
       "  </tbody>\n",
       "</table>\n",
       "</div>"
      ],
      "text/plain": [
       "   clf_name  clf_accuracy\n",
       "1  CatBoost      0.583682\n",
       "2  LightGBM      0.554892\n",
       "0   XGBoost      0.543335"
      ]
     },
     "execution_count": 61,
     "metadata": {},
     "output_type": "execute_result"
    }
   ],
   "source": [
    "defaults = pd.DataFrame([['XGBoost',0],['CatBoost',0],['LightGBM',0]],columns=['clf_name', 'clf_accuracy'])\n",
    "models = [XGBClassifier(random_state=random_state), CatBoostClassifier(random_state=random_state, verbose=0), LGBMClassifier(random_state=random_state)]\n",
    "\n",
    "cv = KFold(n_splits=5)\n",
    "\n",
    "for index, model in enumerate(models):\n",
    "    accuracies = []  # List to store the accuracy of each fold\n",
    "    for train_index, test_index in cv.split(x_train):\n",
    "        fx_train, fx_test = x_train.iloc[train_index], x_train.iloc[test_index]\n",
    "        fy_train, fy_test = y_train.iloc[train_index], y_train.iloc[test_index]\n",
    "\n",
    "        model.fit(fx_train, fy_train.values.ravel())\n",
    "\n",
    "        preds = model.predict(fx_test)\n",
    "\n",
    "        if index == 1:\n",
    "            preds = [True if item=='True' else False for item in model.predict(fx_test)]\n",
    "\n",
    "        accuracies.append(accuracy_score(fy_test, preds))\n",
    "    \n",
    "    mean_accuracy = np.mean(accuracies)\n",
    "    defaults.loc[index, 'clf_accuracy'] = mean_accuracy\n",
    "\n",
    "defaults.sort_values(by='clf_accuracy', ascending=False).head()"
   ]
  },
  {
   "cell_type": "markdown",
   "metadata": {},
   "source": [
    "##### Fine-tuning"
   ]
  },
  {
   "cell_type": "code",
   "execution_count": null,
   "metadata": {},
   "outputs": [],
   "source": [
    "#CatBoost\n",
    "def cb_objective(trial, X, y):\n",
    "    param_grid = {\n",
    "        \"learning_rate\": trial.suggest_float(\"learning_rate\", 0.01, 0.3),\n",
    "        \"depth\": trial.suggest_int(\"max_depth\", 3, 12),\n",
    "        \"min_data_in_leaf\": trial.suggest_int(\"min_data_in_leaf\", 1, 50, step=1),\n",
    "        \"l2_leaf_reg\": trial.suggest_int(\"l2_leaf_reg\", 0, 20, step=1),\n",
    "        \"colsample_bylevel\": trial.suggest_float(\n",
    "            \"colsample_bylevel\", 0.5, 1, step=0.1\n",
    "        ),\n",
    "        \"subsample\": trial.suggest_float(\"subsample\", 0.5, 1, step=0.1),\n",
    "        \"random_strength\": trial.suggest_float(\"random_strength\", 0, 1, step=0.1),\n",
    "        #\"grow_policy\": trial.suggest_categorical(\"grow_policy\", [\"SymmetricTree\"]),\n",
    "        \"bagging_temperature\": trial.suggest_float('bagging_temperature', 0, 20, step=0.25)\n",
    "    }\n",
    "\n",
    "    cv = KFold(n_splits=5)\n",
    "\n",
    "    cv_scores = np.empty(5)\n",
    "    for idx, (train_idx, test_idx) in enumerate(cv.split(X, y)):\n",
    "        X_train, X_test = X.iloc[train_idx], X.iloc[test_idx]\n",
    "        y_train, y_test = y[train_idx], y[test_idx]\n",
    "\n",
    "        model = CatBoostClassifier(\n",
    "                              **param_grid,\n",
    "                              iterations=10000,\n",
    "                              loss_function='Logloss',\n",
    "                              random_seed=42,\n",
    "                              early_stopping_rounds=50,\n",
    "                              eval_metric='Logloss',\n",
    "                              verbose=0\n",
    "                              )\n",
    " \n",
    "        model.fit(\n",
    "            X_train,\n",
    "            y_train,\n",
    "            eval_set=[(X_test, y_test)],\n",
    "            verbose=False,\n",
    "        )\n",
    "        preds = model.predict_proba(X_test)\n",
    "        cv_scores[idx] = log_loss(y_test, preds)\n",
    "\n",
    "    return np.mean(cv_scores)\n",
    "\n",
    "study = optuna.create_study(direction=\"minimize\", study_name=\"CB Classifier\")\n",
    "func = lambda trial: cb_objective(trial, x_train, np.ravel(y_train.values))\n",
    "study.optimize(func, n_trials=200)\n",
    "\n",
    "print(f\"\\tBest value : {study.best_value:.5f}\")\n",
    "print(f\"\\tBest params:\")\n",
    "\n",
    "for key, value in study.best_params.items():\n",
    "    print(f\"\\t\\t{key}: {value}\")"
   ]
  },
  {
   "cell_type": "code",
   "execution_count": null,
   "metadata": {},
   "outputs": [],
   "source": [
    "#XGBoost\n",
    "def xgb_objective(trial, X, y):\n",
    "    param_grid = {\n",
    "        \"n_estimators\": trial.suggest_categorical(\"n_estimators\", [10000]),\n",
    "        \"eta\": trial.suggest_float(\"learning_rate\", 0.01, 0.3),\n",
    "        \"max_depth\": trial.suggest_int(\"max_depth\", 3, 12),\n",
    "        \"min_child_weight\": trial.suggest_int(\"min_child_weight\", 0, 10, step=1),\n",
    "        \"reg_lambda\": trial.suggest_int(\"reg_lambda\", 0, 20, step=2),\n",
    "        \"reg_alpha\": trial.suggest_int(\"reg_alpha\", 0, 20, step=2),\n",
    "        \"gamma\": trial.suggest_int(\"gamma\", 0, 10, step=1),\n",
    "        \"colsample_bytree\": trial.suggest_float(\n",
    "            \"colsample_bytree\", 0.5, 1, step=0.1\n",
    "        ),\n",
    "        \"subsample\": trial.suggest_float(\"subsample\", 0.5, 1, step=0.1),\n",
    "    }\n",
    "\n",
    "    cv = KFold(n_splits=5)\n",
    "\n",
    "    cv_scores = np.empty(5)\n",
    "    for idx, (train_idx, test_idx) in enumerate(cv.split(X, y)):\n",
    "        X_train, X_test = X.iloc[train_idx], X.iloc[test_idx]\n",
    "        y_train, y_test = y[train_idx], y[test_idx]\n",
    "\n",
    "        model = XGBClassifier(objective='binary:logistic', **param_grid, early_stopping_rounds=50, eval_metric=\"logloss\", verbosity=0, n_jobs=4, random_state=42)\n",
    "        model.fit(\n",
    "            X_train,\n",
    "            y_train,\n",
    "            eval_set=[(X_test, y_test)],\n",
    "            verbose=False,\n",
    "        )\n",
    "        preds = model.predict_proba(X_test)\n",
    "        cv_scores[idx] = log_loss(y_test, preds)\n",
    "\n",
    "    return np.mean(cv_scores)\n",
    "\n",
    "study = optuna.create_study(direction=\"minimize\", study_name=\"XGB Classifier\")\n",
    "func = lambda trial: xgb_objective(trial, x_train, np.ravel(y_train.values))\n",
    "study.optimize(func, n_trials=200)\n",
    "\n",
    "print(f\"\\tBest value: {study.best_value:.5f}\")\n",
    "print(f\"\\tBest params:\")\n",
    "\n",
    "for key, value in study.best_params.items():\n",
    "    print(f\"\\t\\t{key}: {value}\")"
   ]
  },
  {
   "cell_type": "code",
   "execution_count": null,
   "metadata": {},
   "outputs": [],
   "source": [
    "#LGBClassifier\n",
    "def lgb_objective(trial, X, y):\n",
    "    param_grid = {\n",
    "        \"n_estimators\": trial.suggest_categorical(\"n_estimators\", [10000]),\n",
    "        \"learning_rate\": trial.suggest_float(\"learning_rate\", 0.01, 0.3),\n",
    "        \"num_leaves\": trial.suggest_int(\"num_leaves\", 20, 3000, step=20),\n",
    "        \"max_depth\": trial.suggest_int(\"max_depth\", 3, 12),\n",
    "        \"min_data_in_leaf\": trial.suggest_int(\"min_data_in_leaf\", 1, 30),\n",
    "        \"lambda_l1\": trial.suggest_int(\"lambda_l1\", 0, 20),\n",
    "        \"lambda_l2\": trial.suggest_int(\"lambda_l2\", 0, 20),\n",
    "        \"min_gain_to_split\": trial.suggest_float(\"min_gain_to_split\", 0, 15),\n",
    "        \"bagging_fraction\": trial.suggest_float(\n",
    "            \"bagging_fraction\", 0.6, 1, step=0.1\n",
    "        ),\n",
    "        \"bagging_freq\": trial.suggest_int(\"bagging_freq\", 5, 50, step=5),\n",
    "        \"feature_fraction\": trial.suggest_float(\n",
    "            \"feature_fraction\", 0.6, 1, step=0.1\n",
    "        ),\n",
    "        \"subsample\": trial.suggest_float(\"subsample\", 0.6, 1, step=0.1)\n",
    "    }\n",
    "\n",
    "    cv = KFold(n_splits=5)\n",
    "\n",
    "    cv_scores = np.empty(5)\n",
    "    for idx, (train_idx, test_idx) in enumerate(cv.split(X, y)):\n",
    "        X_train, X_test = X.iloc[train_idx], X.iloc[test_idx]\n",
    "        y_train, y_test = y[train_idx], y[test_idx]\n",
    "\n",
    "        model = LGBMClassifier(objective=\"binary\", **param_grid, random_state=42, verbosity=-1, early_stopping_rounds=50)\n",
    "        model.fit(\n",
    "            X_train,\n",
    "            y_train,\n",
    "            eval_set=[(X_test, y_test)],\n",
    "            eval_metric=\"logloss\",\n",
    "            verbose=False\n",
    "        )\n",
    "        preds = model.predict_proba(X_test)\n",
    "        cv_scores[idx] = log_loss(y_test, preds)\n",
    "\n",
    "    return np.mean(cv_scores)\n",
    "\n",
    "study = optuna.create_study(direction=\"minimize\", study_name=\"LGBM Classifier\")\n",
    "func = lambda trial: lgb_objective(trial, x_train, np.ravel(y_train.values))\n",
    "study.optimize(func, n_trials=200)\n",
    "\n",
    "print(f\"\\tBest value: {study.best_value:.5f}\")\n",
    "print(f\"\\tBest params:\")\n",
    "\n",
    "for key, value in study.best_params.items():\n",
    "    print(f\"\\t\\t{key}: {value}\")"
   ]
  },
  {
   "cell_type": "markdown",
   "metadata": {},
   "source": [
    "##### Finding optimal iterations and testing on test set"
   ]
  },
  {
   "cell_type": "code",
   "execution_count": 75,
   "metadata": {},
   "outputs": [
    {
     "name": "stdout",
     "output_type": "stream",
     "text": [
      "32.4\n"
     ]
    }
   ],
   "source": [
    "#CatBoost\n",
    "model = CatBoostClassifier(\n",
    "        learning_rate= 0.17150150582778445,\n",
    "\t\tmax_depth= 3,\n",
    "        min_data_in_leaf= 29,\n",
    "\t\tl2_leaf_reg= 17,\n",
    "\t\tcolsample_bylevel= 0.9,\n",
    "\t\tsubsample= 0.7,\n",
    "\t\trandom_strength= 1.0,\n",
    "\t\tbagging_temperature= 19.5,\n",
    "        iterations=10000,\n",
    "        loss_function='Logloss',\n",
    "        random_seed=42,\n",
    "        early_stopping_rounds=50,\n",
    "        eval_metric='Logloss',\n",
    "        verbose=0\n",
    "        )\n",
    "\n",
    "cv = KFold(n_splits=5)\n",
    "iters = np.empty(5)\n",
    "\n",
    "for idx, (train_idx, test_idx) in enumerate(cv.split(x_train, y_train)):\n",
    "    fx_train, fx_test = x_train.iloc[train_idx], x_train.iloc[test_idx]\n",
    "    fy_train, fy_test = y_train.iloc[train_idx], y_train.iloc[test_idx]\n",
    "\n",
    "    model.fit(\n",
    "        fx_train,\n",
    "        fy_train,\n",
    "        eval_set=[(fx_test, fy_test)],\n",
    "        verbose=False,\n",
    "    )\n",
    "    iters[idx] = model.get_best_iteration()\n",
    "\n",
    "cb_iters = np.mean(iters)\n",
    "print(cb_iters)"
   ]
  },
  {
   "cell_type": "code",
   "execution_count": 76,
   "metadata": {},
   "outputs": [
    {
     "name": "stdout",
     "output_type": "stream",
     "text": [
      "81.0\n"
     ]
    }
   ],
   "source": [
    "# XGBOOST\n",
    "model = XGBClassifier(\n",
    "        objective='binary:logistic', \n",
    "        n_estimators=10000,\n",
    "\t\tlearning_rate=0.07209567459064384,\n",
    "\t\tmax_depth=3,\n",
    "\t\tmin_child_weight=2,\n",
    "\t\treg_lambda=20,\n",
    "\t\treg_alpha=0,\n",
    "\t\tgamma=2,\n",
    "\t\tcolsample_bytree=0.7,\n",
    "\t\tsubsample=0.7,\n",
    "        early_stopping_rounds=50,\n",
    "        eval_metric=\"logloss\",\n",
    "        verbosity=0,\n",
    "        n_jobs=4,\n",
    "        random_state=42\n",
    "    )\n",
    "\n",
    "cv = KFold(n_splits=5)\n",
    "iters = np.empty(5)\n",
    "\n",
    "for idx, (train_idx, test_idx) in enumerate(cv.split(x_train, y_train)):\n",
    "    fx_train, fx_test = x_train.iloc[train_idx], x_train.iloc[test_idx]\n",
    "    fy_train, fy_test = y_train.iloc[train_idx], y_train.iloc[test_idx]\n",
    "\n",
    "    model.fit(\n",
    "        fx_train,\n",
    "        fy_train,\n",
    "        eval_set=[(fx_test, fy_test)],\n",
    "        verbose=False,\n",
    "    )\n",
    "    iters[idx] = model.best_iteration\n",
    "\n",
    "xgb_iters = np.mean(iters)\n",
    "print(xgb_iters)"
   ]
  },
  {
   "cell_type": "code",
   "execution_count": null,
   "metadata": {},
   "outputs": [],
   "source": [
    "#LGB\n",
    "model = LGBMClassifier(\n",
    "        objective=\"binary\", \n",
    "        random_state=42, \n",
    "        verbosity=-1, \n",
    "        early_stopping_rounds=50,\n",
    "        n_estimators=10000,\n",
    "\t\tlearning_rate=0.0623685938954552,\n",
    "\t\tnum_leaves=900,\n",
    "\t\tmax_depth=3,\n",
    "\t\tmin_data_in_leaf=9,\n",
    "\t\tlambda_l1=0,\n",
    "\t\tlambda_l2=15,\n",
    "\t\tmin_gain_to_split=0.9966877386609001,\n",
    "\t\tbagging_fraction=0.9,\n",
    "\t\tbagging_freq=30,\n",
    "\t\tfeature_fraction=0.7,\n",
    "\t\tsubsample=0.7\n",
    "        )\n",
    "\n",
    "cv = KFold(n_splits=5)\n",
    "iters = np.empty(5)\n",
    "\n",
    "for idx, (train_idx, test_idx) in enumerate(cv.split(x_train, y_train)):\n",
    "    fx_train, fx_test = x_train.iloc[train_idx], x_train.iloc[test_idx]\n",
    "    fy_train, fy_test = y_train.iloc[train_idx], y_train.iloc[test_idx]\n",
    "\n",
    "    model.fit(\n",
    "        fx_train,\n",
    "        fy_train,\n",
    "        eval_set=[(fx_test, fy_test)],\n",
    "        eval_metric=\"logloss\",\n",
    "        verbose=False,\n",
    "    )\n",
    "    iters[idx] = model.best_iteration_\n",
    "\n",
    "lgb_iters = np.mean(iters)\n",
    "print(lgb_iters)"
   ]
  },
  {
   "cell_type": "code",
   "execution_count": 78,
   "metadata": {},
   "outputs": [
    {
     "name": "stdout",
     "output_type": "stream",
     "text": [
      "0.52\n"
     ]
    }
   ],
   "source": [
    "xgb = XGBClassifier(\n",
    "        objective='binary:logistic', \n",
    "        n_estimators=81,\n",
    "\t\tlearning_rate=0.07209567459064384,\n",
    "\t\tmax_depth=3,\n",
    "\t\tmin_child_weight=2,\n",
    "\t\treg_lambda=20,\n",
    "\t\treg_alpha=0,\n",
    "\t\tgamma=2,\n",
    "\t\tcolsample_bytree=0.7,\n",
    "\t\tsubsample=0.7,\n",
    "        verbosity=0,\n",
    "        n_jobs=4,\n",
    "        random_state=42\n",
    "    )\n",
    "\n",
    "xgb.fit(x_train, y_train, verbose=False)\n",
    "preds = xgb.predict(x_test)\n",
    "print(accuracy_score(y_test, preds))"
   ]
  },
  {
   "cell_type": "code",
   "execution_count": 79,
   "metadata": {},
   "outputs": [
    {
     "name": "stdout",
     "output_type": "stream",
     "text": [
      "0.54\n"
     ]
    }
   ],
   "source": [
    "cb = CatBoostClassifier(\n",
    "        learning_rate= 0.17150150582778445,\n",
    "\t\tmax_depth= 3,\n",
    "        min_data_in_leaf= 29,\n",
    "\t\tl2_leaf_reg= 17,\n",
    "\t\tcolsample_bylevel= 0.9,\n",
    "\t\tsubsample= 0.7,\n",
    "\t\trandom_strength= 1.0,\n",
    "\t\tbagging_temperature= 19.5,\n",
    "        iterations=32,\n",
    "        loss_function='Logloss',\n",
    "        random_seed=42,\n",
    "        verbose=0\n",
    ")   \n",
    "\n",
    "cb.fit(x_train, y_train, verbose=False)\n",
    "preds = [True if item=='True' else False for item in cb.predict(x_test)]\n",
    "print(accuracy_score(y_test, preds))"
   ]
  },
  {
   "cell_type": "code",
   "execution_count": 80,
   "metadata": {},
   "outputs": [
    {
     "name": "stdout",
     "output_type": "stream",
     "text": [
      "0.56\n"
     ]
    }
   ],
   "source": [
    "lgb = LGBMClassifier(\n",
    "        objective=\"binary\", \n",
    "        random_state=42, \n",
    "        verbosity=-1, \n",
    "        n_estimators=52,\n",
    "\t\tlearning_rate=0.0623685938954552,\n",
    "\t\tnum_leaves=900,\n",
    "\t\tmax_depth=3,\n",
    "\t\tmin_data_in_leaf=9,\n",
    "\t\tlambda_l1=0,\n",
    "\t\tlambda_l2=15,\n",
    "\t\tmin_gain_to_split=0.9966877386609001,\n",
    "\t\tbagging_fraction=0.9,\n",
    "\t\tbagging_freq=30,\n",
    "\t\tfeature_fraction=0.7,\n",
    "\t\tsubsample=0.7\n",
    ")\n",
    "\n",
    "lgb.fit(x_train, y_train.values.ravel())\n",
    "preds = lgb.predict(x_test)\n",
    "print(accuracy_score(y_test, preds))"
   ]
  },
  {
   "cell_type": "markdown",
   "metadata": {},
   "source": [
    "#### Recursive Feature Selection"
   ]
  },
  {
   "cell_type": "markdown",
   "metadata": {},
   "source": [
    "##### Find best number of features for base models"
   ]
  },
  {
   "cell_type": "code",
   "execution_count": 48,
   "metadata": {},
   "outputs": [
    {
     "name": "stdout",
     "output_type": "stream",
     "text": [
      "RFE for xgboost {1: 0.5125, 2: 0.5, 3: 0.4625, 4: 0.4625, 5: 0.4625, 6: 0.475, 7: 0.5, 8: 0.575, 9: 0.6, 10: 0.525, 11: 0.525, 12: 0.5625, 13: 0.6375, 14: 0.6, 15: 0.575, 16: 0.55, 17: 0.6125, 18: 0.5625, 19: 0.6, 20: 0.65, 21: 0.5875, 22: 0.5625}\n",
      "RFE for catboost {1: 0.525, 2: 0.525, 3: 0.55, 4: 0.5375, 5: 0.5, 6: 0.5375, 7: 0.575, 8: 0.525, 9: 0.4875, 10: 0.5125, 11: 0.5, 12: 0.5125, 13: 0.525, 14: 0.5125, 15: 0.5375, 16: 0.5375, 17: 0.55, 18: 0.55, 19: 0.5625, 20: 0.575, 21: 0.5625, 22: 0.5625}\n",
      "RFE for lgbm {1: 0.55, 2: 0.55, 3: 0.475, 4: 0.6125, 5: 0.575, 6: 0.6, 7: 0.5875, 8: 0.5875, 9: 0.6, 10: 0.6125, 11: 0.6125, 12: 0.5375, 13: 0.5625, 14: 0.5625, 15: 0.55, 16: 0.575, 17: 0.5625, 18: 0.575, 19: 0.6, 20: 0.5625, 21: 0.575, 22: 0.575}\n"
     ]
    }
   ],
   "source": [
    "import warnings\n",
    "warnings.filterwarnings(\"ignore\")\n",
    "\n",
    "dataset = pd.read_csv('diffs.csv')\n",
    "Y = dataset.loc[:,['result']]\n",
    "X = dataset.drop('result',axis=1)\n",
    "\n",
    "x_train, x_test, y_train, y_test = train_test_split(X, Y, test_size=80, shuffle=True, random_state=42)\n",
    "# x_train, x_rest, y_train, y_rest = train_test_split(X, Y, test_size=160, shuffle=True, random_state=42)\n",
    "# x_val, x_test, y_val, y_test = train_test_split(x_rest, y_rest, test_size=80, shuffle=True, random_state=42)\n",
    "\n",
    "xgb = XGBClassifier(\n",
    "        objective='binary:logistic', \n",
    "        random_state=42\n",
    "    )\n",
    "\n",
    "cb = CatBoostClassifier(\n",
    "    loss_function='Logloss',\n",
    "    random_seed=42,\n",
    "    verbose=0\n",
    ")\n",
    "\n",
    "lgb = LGBMClassifier(\n",
    "    objective='binary',\n",
    "    random_state=42,\n",
    "    verbosity=-1\n",
    ")\n",
    "# Select bset # of features\n",
    "\n",
    "features ={}\n",
    "for i in range(1,23):\n",
    "    rfe = RFE(estimator=xgb, n_features_to_select=i)\n",
    "    rfe.fit(x_train, y_train)\n",
    "    # print(f'The selected features are: {rfe.get_feature_names_out()}')\n",
    "    rfe_train = rfe.transform(x_train)\n",
    "    rfe_test = rfe.transform(x_test)\n",
    "\n",
    "    xgb.fit(rfe_train, y_train)\n",
    "    features[i] = accuracy_score(y_test,xgb.predict(rfe_test))\n",
    "\n",
    "print(f\"RFE for xgboost {features}\")\n",
    "\n",
    "####\n",
    "\n",
    "features ={}\n",
    "for i in range(1,23):\n",
    "    rfe = RFE(estimator=cb, n_features_to_select=i)\n",
    "    rfe.fit(x_train, y_train)\n",
    "    # print(f'The selected features are: {rfe.get_feature_names_out()}')\n",
    "    rfe_train = rfe.transform(x_train)\n",
    "    rfe_test = rfe.transform(x_test)\n",
    "\n",
    "    cb.fit(rfe_train, y_train)\n",
    "    features[i] = accuracy_score(y_test,[True if item==\"True\" else False for item in cb.predict(rfe_test)])\n",
    "\n",
    "print(f\"RFE for catboost {features}\")\n",
    "\n",
    "####\n",
    "\n",
    "features ={}\n",
    "for i in range(1,23):\n",
    "    rfe = RFE(estimator=lgb, n_features_to_select=i)\n",
    "    rfe.fit(x_train, y_train)\n",
    "    # print(f'The selected features are: {rfe.get_feature_names_out()}')\n",
    "    rfe_train = rfe.transform(x_train)\n",
    "    rfe_test = rfe.transform(x_test)\n",
    "\n",
    "    lgb.fit(rfe_train, y_train)\n",
    "    features[i] = accuracy_score(y_test,lgb.predict(rfe_test))\n",
    "\n",
    "print(f\"RFE for lgbm {features}\")\n",
    "\n",
    "########################################################################################"
   ]
  },
  {
   "cell_type": "code",
   "execution_count": 16,
   "metadata": {},
   "outputs": [],
   "source": [
    "with open('rfe_xgb.pkl', 'rb') as file:\n",
    "    xgb_rfe = pickle.load(file)\n",
    "with open('rfe_cb.pkl', 'rb') as file:\n",
    "    cb_rfe = pickle.load(file)\n",
    "with open('rfe_lgb.pkl', 'rb') as file:\n",
    "    lgb_rfe = pickle.load(file)\n",
    "\n",
    "train = pd.read_csv('train.csv')\n",
    "test = pd.read_csv('test.csv')\n",
    "\n",
    "y_train = train.loc[:,'result']\n",
    "x_train = train.drop('result', axis=1)\n",
    "\n",
    "y_test = test.loc[:,'result']\n",
    "x_test = test.drop('result', axis=1)\n",
    "\n",
    "xgb_train = xgb_rfe.transform(x_train)\n",
    "xgb_test = xgb_rfe.transform(x_test)\n",
    "cb_train = cb_rfe.transform(x_train)\n",
    "cb_test = cb_rfe.transform(x_test)\n",
    "lgb_train = lgb_rfe.transform(x_train)\n",
    "lgb_test = lgb_rfe.transform(x_test)"
   ]
  },
  {
   "cell_type": "markdown",
   "metadata": {},
   "source": [
    "##### Fine-tuning with rfe features"
   ]
  },
  {
   "cell_type": "code",
   "execution_count": null,
   "metadata": {},
   "outputs": [],
   "source": [
    "#fine-tuning for test test\n",
    "def xgb_objective(trial, x_train, y_train, x_test, y_test):\n",
    "    param_grid = {\n",
    "        \"n_estimators\": trial.suggest_categorical(\"n_estimators\", [10000]),\n",
    "        \"eta\": trial.suggest_float(\"learning_rate\", 0.01, 0.3),\n",
    "        \"max_depth\": trial.suggest_int(\"max_depth\", 3, 12),\n",
    "        \"min_child_weight\": trial.suggest_int(\"min_child_weight\", 0, 10, step=1),\n",
    "        \"reg_lambda\": trial.suggest_int(\"reg_lambda\", 0, 20, step=2),\n",
    "        \"reg_alpha\": trial.suggest_int(\"reg_alpha\", 0, 20, step=2),\n",
    "        \"gamma\": trial.suggest_int(\"gamma\", 0, 10, step=1),\n",
    "        # \"colsample_bytree\": trial.suggest_float(\n",
    "        #     \"colsample_bytree\", 0.5, 1, step=0.1\n",
    "        # ),\n",
    "        # \"subsample\": trial.suggest_float(\"subsample\", 0.5, 1, step=0.1)\n",
    "    }\n",
    "\n",
    "    \n",
    "    model = XGBClassifier(objective='binary:logistic', **param_grid, early_stopping_rounds=50, eval_metric=\"error\", verbosity=0, n_jobs=4, random_state=42)\n",
    "    model.fit(\n",
    "        x_train,\n",
    "        y_train,\n",
    "        eval_set=[(x_test, y_test)],\n",
    "        verbose=False\n",
    "    )\n",
    "    preds = model.predict(x_test)\n",
    "\n",
    "    return accuracy_score(y_test, preds)\n",
    "\n",
    "study = optuna.create_study(direction=\"maximize\", study_name=\"XGB Classifier\")\n",
    "func = lambda trial: xgb_objective(trial, xgb_train, np.ravel(y_train.values), xgb_test, np.ravel(y_test.values))\n",
    "study.optimize(func, n_trials=300)\n",
    "\n",
    "print(f\"\\tBest value: {study.best_value:.5f}\")\n",
    "print(f\"\\tBest params:\")\n",
    "\n",
    "for key, value in study.best_params.items():\n",
    "    print(f\"\\t\\t{key}: {value}\")"
   ]
  },
  {
   "cell_type": "markdown",
   "metadata": {},
   "source": [
    "Best value: 0.73750\n",
    "\tBest params:\n",
    "\t\tn_estimators: 10000\n",
    "\t\tlearning_rate: 0.1778979947018614\n",
    "\t\tmax_depth: 5\n",
    "\t\tmin_child_weight: 2\n",
    "\t\treg_lambda: 8\n",
    "\t\treg_alpha: 0\n",
    "\t\tgamma: 0"
   ]
  },
  {
   "cell_type": "code",
   "execution_count": null,
   "metadata": {},
   "outputs": [],
   "source": [
    "#CatBoost\n",
    "def cb_objective(trial, x_train, y_train, x_val, y_val):\n",
    "    param_grid = {\n",
    "        \"learning_rate\": trial.suggest_float(\"learning_rate\", 0.01, 0.3),\n",
    "        \"depth\": trial.suggest_int(\"max_depth\", 3, 12),\n",
    "        \"min_data_in_leaf\": trial.suggest_int(\"min_data_in_leaf\", 1, 50, step=1),\n",
    "        \"l2_leaf_reg\": trial.suggest_int(\"l2_leaf_reg\", 0, 30, step=1),\n",
    "        # \"colsample_bylevel\": trial.suggest_float(\n",
    "        #     \"colsample_bylevel\", 0.5, 1, step=0.1\n",
    "        # ),\n",
    "        # \"subsample\": trial.suggest_float(\"subsample\", 0.5, 1, step=0.1),\n",
    "        \"random_strength\": trial.suggest_float(\"random_strength\", 0, 1, step=0.1),\n",
    "        \"bagging_temperature\": trial.suggest_float('bagging_temperature', 0, 20, step=0.25)\n",
    "    }\n",
    "\n",
    "    # pruning = CatBoostPruningCallback(trial, 'Logloss')\n",
    "    model = CatBoostClassifier(\n",
    "                            **param_grid,\n",
    "                            iterations=10000,\n",
    "                            random_seed=42,\n",
    "                            verbose=0,\n",
    "                            eval_metric='Accuracy',\n",
    "                            early_stopping_rounds=50\n",
    "                            )\n",
    "\n",
    "    model.fit(\n",
    "        x_train,\n",
    "        y_train,\n",
    "        eval_set=[(x_val,y_val)],\n",
    "        verbose=False,\n",
    "        # callbacks=[pruning]\n",
    "    )\n",
    "    preds = [True if item=='True' else False for item in model.predict(x_val)]\n",
    "    score = accuracy_score(y_val, preds)\n",
    "\n",
    "    return score\n",
    "\n",
    "study = optuna.create_study(direction=\"maximize\", study_name=\"CB Classifier\") # pruner=optuna.pruners.MedianPruner(n_warmup_steps=5)\n",
    "func = lambda trial: cb_objective(trial, cb_train, np.ravel(y_train.values), cb_test, np.ravel(y_test.values))\n",
    "study.optimize(func, n_trials=300)\n",
    "\n",
    "print(f\"\\tBest value : {study.best_value:.5f}\")\n",
    "print(f\"\\tBest params:\")\n",
    "\n",
    "for key, value in study.best_params.items():\n",
    "    print(f\"\\t\\t{key}: {value}\")"
   ]
  },
  {
   "cell_type": "markdown",
   "metadata": {},
   "source": [
    "Best value : 0.75000\n",
    "\tBest params:\n",
    "\t\tlearning_rate: 0.2504595028727598\n",
    "\t\tmax_depth: 8\n",
    "\t\tmin_data_in_leaf: 46\n",
    "\t\tl2_leaf_reg: 10\n",
    "\t\trandom_strength: 0.30000000000000004\n",
    "\t\tbagging_temperature: 8.0"
   ]
  },
  {
   "cell_type": "code",
   "execution_count": null,
   "metadata": {},
   "outputs": [],
   "source": [
    "def lgb_objective(trial, x_train, y_train, x_val, y_val):\n",
    "    param_grid = {\n",
    "        \"n_estimators\": trial.suggest_categorical(\"n_estimators\", [10000]),\n",
    "        \"learning_rate\": trial.suggest_float(\"learning_rate\", 0.01, 0.3),\n",
    "        \"num_leaves\": trial.suggest_int(\"num_leaves\", 20, 3000, step=20),\n",
    "        \"max_depth\": trial.suggest_int(\"max_depth\", 3, 12),\n",
    "        \"min_data_in_leaf\": trial.suggest_int(\"min_data_in_leaf\", 1, 50),\n",
    "        \"lambda_l1\": trial.suggest_int(\"lambda_l1\", 0, 20),\n",
    "        \"lambda_l2\": trial.suggest_int(\"lambda_l2\", 0, 20),\n",
    "        \"min_gain_to_split\": trial.suggest_float(\"min_gain_to_split\", 0, 15),\n",
    "        # \"bagging_fraction\": trial.suggest_float(\n",
    "        #     \"bagging_fraction\", 0.5, 1, step=0.1\n",
    "        # ),\n",
    "        \"bagging_freq\": trial.suggest_int(\"bagging_freq\", 5, 50, step=5),\n",
    "        # \"feature_fraction\": trial.suggest_float(\n",
    "        #     \"feature_fraction\", 0.5, 1, step=0.1\n",
    "        # ),\n",
    "        # \"subsample\": trial.suggest_float(\"subsample\", 0.5, 1, step=0.1)\n",
    "    }\n",
    "\n",
    "    model = LGBMClassifier(objective=\"binary\", **param_grid, random_state=42, verbosity=-1, early_stopping_rounds=50)\n",
    "    model.fit(\n",
    "        x_train,\n",
    "        y_train,\n",
    "        eval_set=[(x_val, y_val)],\n",
    "        eval_metric=\"binary_error\",\n",
    "        verbose=False\n",
    "    )\n",
    "    preds = model.predict(x_val)\n",
    "    score = accuracy_score(y_val, preds)\n",
    "\n",
    "    return score\n",
    "\n",
    "study = optuna.create_study(direction=\"maximize\", study_name=\"LGBM Classifier\")\n",
    "func = lambda trial: lgb_objective(trial, lgb_train, np.ravel(y_train.values), lgb_test, np.ravel(y_test))\n",
    "study.optimize(func, n_trials=300)\n",
    "\n",
    "print(f\"\\tBest value: {study.best_value:.5f}\")\n",
    "print(f\"\\tBest params:\")\n",
    "\n",
    "for key, value in study.best_params.items():\n",
    "    print(f\"\\t\\t{key}: {value}\")"
   ]
  },
  {
   "cell_type": "markdown",
   "metadata": {},
   "source": [
    "Best value: 0.61250\n",
    "\tBest params:\n",
    "\t\tn_estimators: 10000\n",
    "\t\tlearning_rate: 0.20757562320258496\n",
    "\t\tnum_leaves: 460\n",
    "\t\tmax_depth: 9\n",
    "\t\tmin_data_in_leaf: 36\n",
    "\t\tlambda_l1: 17\n",
    "\t\tlambda_l2: 0\n",
    "\t\tmin_gain_to_split: 9.612828269699992"
   ]
  },
  {
   "cell_type": "markdown",
   "metadata": {},
   "source": [
    "##### Saving best models"
   ]
  },
  {
   "cell_type": "code",
   "execution_count": 34,
   "metadata": {},
   "outputs": [
    {
     "name": "stdout",
     "output_type": "stream",
     "text": [
      "0.7375\n"
     ]
    }
   ],
   "source": [
    "# XGBOOST\n",
    "model = XGBClassifier(\n",
    "        objective='binary:logistic', \n",
    "        n_estimators= 10000,\n",
    "\t\tlearning_rate= 0.1778979947018614,\n",
    "\t\tmax_depth= 5,\n",
    "\t\tmin_child_weight=2,\n",
    "\t\treg_lambda= 8,\n",
    "\t\treg_alpha= 0,\n",
    "\t\tgamma= 0,\n",
    "\t\t# colsample_bytree= 0.5,\n",
    "\t\t# subsample= 0.6,\n",
    "        early_stopping_rounds=50,\n",
    "        eval_metric=\"error\",\n",
    "        verbosity=0,\n",
    "        n_jobs=4,\n",
    "        random_state=42\n",
    "    )\n",
    "\n",
    "\n",
    "model.fit(\n",
    "    xgb_train,\n",
    "    y_train,\n",
    "    eval_set=[(xgb_test, y_test)],\n",
    "    verbose=False,\n",
    ")\n",
    "\n",
    "print(accuracy_score(y_test, model.predict(xgb_test)))\n",
    "\n",
    "with open('xgb_rfe20.pkl','wb') as file:\n",
    "    pickle.dump(model, file)"
   ]
  },
  {
   "cell_type": "code",
   "execution_count": 37,
   "metadata": {},
   "outputs": [
    {
     "name": "stdout",
     "output_type": "stream",
     "text": [
      "0.75\n"
     ]
    }
   ],
   "source": [
    "# CatBOOST\n",
    "cb = CatBoostClassifier(\n",
    "        learning_rate= 0.2504595028727598,\n",
    "\t\tmax_depth= 8,\n",
    "\t\tl2_leaf_reg= 10,\n",
    "        min_data_in_leaf=46,\n",
    "\t\trandom_strength= 0.30000000000000004,\n",
    "\t\tbagging_temperature= 8.0,\n",
    "        iterations=10000,\n",
    "        random_seed=42,\n",
    "        verbose=0,\n",
    "        eval_metric='Accuracy',\n",
    "        early_stopping_rounds=50\n",
    ")   \n",
    "\n",
    "cb.fit(cb_train, \n",
    "       y_train,\n",
    "       eval_set=[(cb_test, y_test)],\n",
    "       verbose=False\n",
    "       )\n",
    "\n",
    "preds = [True if item=='True' else False for item in cb.predict(cb_test)]\n",
    "print(accuracy_score(y_test, preds))\n",
    "\n",
    "with open('cb_rfe20.pkl','wb') as file:\n",
    "    pickle.dump(cb, file)"
   ]
  },
  {
   "cell_type": "code",
   "execution_count": null,
   "metadata": {},
   "outputs": [],
   "source": [
    "# LighGBM\n",
    "lgb = LGBMClassifier(\n",
    "        objective=\"binary\", \n",
    "        random_state=42, \n",
    "        verbosity=-1, \n",
    "        n_estimators=10000,\n",
    "\t\tlearning_rate=0.20757562320258496,\n",
    "\t\tnum_leaves=460,\n",
    "\t\tmax_depth=9,\n",
    "\t\tmin_data_in_leaf=36,\n",
    "\t\tlambda_l1=17,\n",
    "\t\tlambda_l2=0,\n",
    "\t\tmin_gain_to_split=9.612828269699992,\n",
    "        early_stopping_rounds=50\n",
    ")\n",
    "\n",
    "lgb.fit(lgb_train,\n",
    "        y_train.values.ravel(),\n",
    "        eval_set=[(lgb_test, y_test.values.ravel())],\n",
    "        eval_metric=\"binary_error\",\n",
    "        verbose=False)\n",
    "\n",
    "preds = lgb.predict(lgb_test)\n",
    "print(accuracy_score(y_test, preds))\n",
    "\n",
    "with open('lgb_rfe20.pkl','wb') as file:\n",
    "    pickle.dump(lgb, file)"
   ]
  },
  {
   "cell_type": "markdown",
   "metadata": {},
   "source": [
    "#### PCA"
   ]
  },
  {
   "cell_type": "code",
   "execution_count": 17,
   "metadata": {},
   "outputs": [
    {
     "name": "stdout",
     "output_type": "stream",
     "text": [
      "PCA for xgboost {1: 0.5125, 2: 0.5, 3: 0.5, 4: 0.5375, 5: 0.4875, 6: 0.475, 7: 0.575, 8: 0.5125, 9: 0.5125, 10: 0.525, 11: 0.5125, 12: 0.4875, 13: 0.5625, 14: 0.5125, 15: 0.5, 16: 0.5375, 17: 0.5125, 18: 0.4875, 19: 0.5375, 20: 0.5625, 21: 0.5625, 22: 0.6125}\n",
      "PCA for cboost {1: 0.5375, 2: 0.4625, 3: 0.45, 4: 0.5375, 5: 0.5125, 6: 0.5, 7: 0.5125, 8: 0.5125, 9: 0.4875, 10: 0.5375, 11: 0.525, 12: 0.5375, 13: 0.5375, 14: 0.5125, 15: 0.525, 16: 0.5375, 17: 0.5125, 18: 0.55, 19: 0.5625, 20: 0.525, 21: 0.575, 22: 0.5375}\n",
      "PCA for lgboost {1: 0.5125, 2: 0.45, 3: 0.4125, 4: 0.5, 5: 0.5375, 6: 0.45, 7: 0.4875, 8: 0.575, 9: 0.5125, 10: 0.55, 11: 0.4875, 12: 0.4625, 13: 0.45, 14: 0.4875, 15: 0.5375, 16: 0.5, 17: 0.5, 18: 0.525, 19: 0.45, 20: 0.475, 21: 0.525, 22: 0.575}\n"
     ]
    }
   ],
   "source": [
    "from sklearn.decomposition import PCA\n",
    "import warnings\n",
    "warnings.filterwarnings(\"ignore\")\n",
    "\n",
    "train = pd.read_csv('train.csv')\n",
    "test = pd.read_csv('test.csv')\n",
    "\n",
    "y_train = train.loc[:,'result']\n",
    "x_train = train.drop('result', axis=1)\n",
    "\n",
    "y_test = test.loc[:,'result']\n",
    "x_test = test.drop('result', axis=1)\n",
    "\n",
    "xgb = XGBClassifier(\n",
    "        objective='binary:logistic', \n",
    "        random_state=42\n",
    "    )\n",
    "\n",
    "cb = CatBoostClassifier(\n",
    "    loss_function='Logloss',\n",
    "    random_seed=42,\n",
    "    verbose=0\n",
    ")\n",
    "\n",
    "lgb = LGBMClassifier(\n",
    "    objective='binary',\n",
    "    random_state=42,\n",
    "    verbosity=-1\n",
    ")\n",
    "\n",
    "scaler = StandardScaler()\n",
    "scaler.fit(x_train)\n",
    "x_train = scaler.transform(x_train)\n",
    "x_test = scaler.transform(x_test)\n",
    "\n",
    "features = {}\n",
    "\n",
    "for i in range(1,23):\n",
    "    pca = PCA(n_components=i)\n",
    "    pca.fit(x_train)\n",
    "    pca_train = pca.transform(x_train)\n",
    "    pca_test = pca.transform(x_test)\n",
    "\n",
    "    xgb.fit(pca_train, y_train)\n",
    "    features[i] = accuracy_score(y_test,xgb.predict(pca_test))\n",
    "\n",
    "print(f\"PCA for xgboost {features}\")\n",
    "\n",
    "features = {}\n",
    "for i in range(1,23):\n",
    "    pca = PCA(n_components=i)\n",
    "    pca.fit(x_train)\n",
    "    pca_train = pca.transform(x_train)\n",
    "    pca_test = pca.transform(x_test)\n",
    "\n",
    "    cb.fit(pca_train, y_train)\n",
    "    features[i] = accuracy_score(y_test,[True if item==\"True\" else False for item in cb.predict(pca_test)])\n",
    "\n",
    "print(f\"PCA for cboost {features}\")\n",
    "\n",
    "features = {}\n",
    "for i in range(1,23):\n",
    "    pca = PCA(n_components=i)\n",
    "    pca.fit(x_train)\n",
    "    pca_train = pca.transform(x_train)\n",
    "    pca_test = pca.transform(x_test)\n",
    "\n",
    "    lgb.fit(pca_train, y_train)\n",
    "    features[i] = accuracy_score(y_test,lgb.predict(pca_test))\n",
    "\n",
    "print(f\"PCA for lgboost {features}\")"
   ]
  }
 ],
 "metadata": {
  "kernelspec": {
   "display_name": "Python 3",
   "language": "python",
   "name": "python3"
  },
  "language_info": {
   "codemirror_mode": {
    "name": "ipython",
    "version": 3
   },
   "file_extension": ".py",
   "mimetype": "text/x-python",
   "name": "python",
   "nbconvert_exporter": "python",
   "pygments_lexer": "ipython3",
   "version": "3.10.11"
  }
 },
 "nbformat": 4,
 "nbformat_minor": 2
}
