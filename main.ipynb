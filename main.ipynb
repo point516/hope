{
 "cells": [
  {
   "cell_type": "code",
   "execution_count": 1,
   "metadata": {},
   "outputs": [],
   "source": [
    "import psycopg2"
   ]
  },
  {
   "cell_type": "code",
   "execution_count": 7,
   "metadata": {},
   "outputs": [],
   "source": [
    "conn = psycopg2.connect(host=\"localhost\", dbname='cs', user='postgres', password='123456', port=5432)\n",
    "cur = conn.cursor()\n",
    "\n",
    "query = \"\"\"SELECT * FROM side_dataset where id>=684\"\"\"\n",
    "cur.execute(query)"
   ]
  },
  {
   "cell_type": "code",
   "execution_count": 6,
   "metadata": {},
   "outputs": [
    {
     "data": {
      "text/plain": [
       "0"
      ]
     },
     "execution_count": 6,
     "metadata": {},
     "output_type": "execute_result"
    }
   ],
   "source": [
    "len(cur.fetchall())"
   ]
  },
  {
   "cell_type": "code",
   "execution_count": 8,
   "metadata": {},
   "outputs": [
    {
     "data": {
      "text/plain": [
       "(685,\n",
       " 'mirage',\n",
       " 'Heroic',\n",
       " 'Astralis',\n",
       " 0.0,\n",
       " 0.0,\n",
       " 0.0,\n",
       " 0.0,\n",
       " 31.0,\n",
       " 13.0,\n",
       " 0.0,\n",
       " 4.0,\n",
       " 1.0,\n",
       " 0.0,\n",
       " 2.7541177,\n",
       " 1.4470588,\n",
       " 5.62,\n",
       " 5.53,\n",
       " 5.62,\n",
       " 5.53,\n",
       " 11.0,\n",
       " 35.0,\n",
       " 5.71,\n",
       " 7.5,\n",
       " 7.25,\n",
       " 10.35,\n",
       " 9.0,\n",
       " 5.0,\n",
       " False,\n",
       " 0.07,\n",
       " 0.75,\n",
       " 4.0,\n",
       " 0.0,\n",
       " 0.0,\n",
       " 0.75,\n",
       " 0.378,\n",
       " 0.75,\n",
       " 7.2,\n",
       " 17.33,\n",
       " False,\n",
       " 0.21,\n",
       " 0.62,\n",
       " 8.0,\n",
       " 0.0,\n",
       " 0.0,\n",
       " 0.743,\n",
       " 0.33,\n",
       " 0.625,\n",
       " True)"
      ]
     },
     "execution_count": 8,
     "metadata": {},
     "output_type": "execute_result"
    }
   ],
   "source": [
    "cur.fetchall()[0]"
   ]
  },
  {
   "cell_type": "code",
   "execution_count": null,
   "metadata": {},
   "outputs": [],
   "source": []
  }
 ],
 "metadata": {
  "kernelspec": {
   "display_name": "Python 3",
   "language": "python",
   "name": "python3"
  },
  "language_info": {
   "codemirror_mode": {
    "name": "ipython",
    "version": 3
   },
   "file_extension": ".py",
   "mimetype": "text/x-python",
   "name": "python",
   "nbconvert_exporter": "python",
   "pygments_lexer": "ipython3",
   "version": "3.10.11"
  }
 },
 "nbformat": 4,
 "nbformat_minor": 2
}
